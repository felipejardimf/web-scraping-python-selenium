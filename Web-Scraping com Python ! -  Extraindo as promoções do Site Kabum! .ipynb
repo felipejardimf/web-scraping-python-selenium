{
 "cells": [
  {
   "cell_type": "code",
   "execution_count": 1,
   "metadata": {},
   "outputs": [],
   "source": [
    "#Bibliotecas necessárias\n",
    "\n",
    "import time\n",
    "import re\n",
    "import pandas as pd\n",
    "import selenium\n",
    "from selenium import webdriver"
   ]
  },
  {
   "cell_type": "code",
   "execution_count": null,
   "metadata": {},
   "outputs": [],
   "source": [
    "#Iremos procurar todas as páginas relacionadas a ofertas na página principal do website Kabum\n",
    "#Para isso, utilizaremos regex."
   ]
  },
  {
   "cell_type": "code",
   "execution_count": 3,
   "metadata": {
    "scrolled": true
   },
   "outputs": [],
   "source": [
    "driver = webdriver.Chrome()\n",
    "driver.get(\"https://www.kabum.com.br\")"
   ]
  },
  {
   "cell_type": "code",
   "execution_count": 6,
   "metadata": {},
   "outputs": [],
   "source": [
    "hrefs = driver.find_elements_by_tag_name('a')"
   ]
  },
  {
   "cell_type": "code",
   "execution_count": 10,
   "metadata": {},
   "outputs": [],
   "source": [
    "lista_hrefs= []\n",
    "for i in hrefs:\n",
    "    lista_hrefs.append(i.get_attribute('href'))"
   ]
  },
  {
   "cell_type": "code",
   "execution_count": 32,
   "metadata": {},
   "outputs": [
    {
     "name": "stdout",
     "output_type": "stream",
     "text": [
      "https://www.kabum.com.br/ofertas/diadospais?int_banner_name=diadospais&int_banner_position=theme_home\n",
      "https://www.kabum.com.br/cgi-local/site/produtos/descricao_ofertas.cgi?codigo=98765\n",
      "https://www.kabum.com.br/cgi-local/site/produtos/descricao_ofertas.cgi?codigo=98765\n",
      "https://www.kabum.com.br/cgi-local/site/produtos/descricao_ofertas.cgi?codigo=113816\n",
      "https://www.kabum.com.br/cgi-local/site/produtos/descricao_ofertas.cgi?codigo=113816\n",
      "https://www.kabum.com.br/cgi-local/site/produtos/descricao_ofertas.cgi?codigo=114002\n",
      "https://www.kabum.com.br/cgi-local/site/produtos/descricao_ofertas.cgi?codigo=114002\n",
      "https://www.kabum.com.br/ofertas/diadospais\n"
     ]
    }
   ],
   "source": [
    "for i in lista_hrefs:\n",
    "    if re.findall('oferta',i) != []:\n",
    "        print(i)"
   ]
  },
  {
   "cell_type": "code",
   "execution_count": null,
   "metadata": {},
   "outputs": [],
   "source": [
    "#class_ =load-box-animated-background"
   ]
  },
  {
   "cell_type": "code",
   "execution_count": 65,
   "metadata": {},
   "outputs": [
    {
     "name": "stdout",
     "output_type": "stream",
     "text": [
      "ufa.. fim da página!\n"
     ]
    }
   ],
   "source": [
    "lista_nomes = []\n",
    "lista_prazo = []\n",
    "lista_a_vista = []\n",
    "driver = webdriver.Chrome()\n",
    "driver.get(\"https://www.kabum.com.br/ofertas/diadospais\")\n",
    "\n",
    "SCROLL_PAUSE_TIME = 1.5\n",
    "while len(lista_nomes) == 0:\n",
    "    try:\n",
    "        driver.find_element_by_class_name('bloco-info-encerrada')\n",
    "        print('ufa.. fim da página!')\n",
    "        produto_nome = driver.find_elements_by_class_name('produto-nome')\n",
    "        produto_prazo = driver.find_elements_by_class_name('produto-aprazo')\n",
    "        produto_a_vista = driver.find_elements_by_class_name('produto-avista')\n",
    "\n",
    "        for i in produto_nome:\n",
    "            lista_nomes.append(i.text)\n",
    "        for i in produto_prazo:\n",
    "            lista_prazo.append(i.text)\n",
    "        for i in produto_a_vista:\n",
    "            lista_a_vista.append(i.text)    \n",
    "    except Exception:    \n",
    "\n",
    "        # Scroll down to bottom\n",
    "        driver.execute_script(\"window.scrollTo(0, document.body.scrollHeight);\")\n",
    "\n",
    "        # Wait to load page\n",
    "        time.sleep(SCROLL_PAUSE_TIME)\n"
   ]
  },
  {
   "cell_type": "code",
   "execution_count": 75,
   "metadata": {},
   "outputs": [],
   "source": [
    "promocoes_kabum = pd.DataFrame(list(zip(lista_nomes,lista_prazo,lista_a_vista)),columns=['nome_produto','valor_a_prazo','valor_a_vista'])"
   ]
  },
  {
   "cell_type": "code",
   "execution_count": 76,
   "metadata": {},
   "outputs": [
    {
     "data": {
      "text/html": [
       "<div>\n",
       "<style scoped>\n",
       "    .dataframe tbody tr th:only-of-type {\n",
       "        vertical-align: middle;\n",
       "    }\n",
       "\n",
       "    .dataframe tbody tr th {\n",
       "        vertical-align: top;\n",
       "    }\n",
       "\n",
       "    .dataframe thead th {\n",
       "        text-align: right;\n",
       "    }\n",
       "</style>\n",
       "<table border=\"1\" class=\"dataframe\">\n",
       "  <thead>\n",
       "    <tr style=\"text-align: right;\">\n",
       "      <th></th>\n",
       "      <th>nome_produto</th>\n",
       "      <th>valor_a_prazo</th>\n",
       "      <th>valor_a_vista</th>\n",
       "    </tr>\n",
       "  </thead>\n",
       "  <tbody>\n",
       "    <tr>\n",
       "      <td>0</td>\n",
       "      <td>Notebook Lenovo B330 Intel Core i3-7020U, 4GB,...</td>\n",
       "      <td>De R$ 3.473,58 por</td>\n",
       "      <td>R$ 3.099,90</td>\n",
       "    </tr>\n",
       "    <tr>\n",
       "      <td>1</td>\n",
       "      <td>Cadeira Office DT3 Sports Spider Red - 12057-5</td>\n",
       "      <td>De R$ 2.499,90 por</td>\n",
       "      <td>R$ 1.999,90</td>\n",
       "    </tr>\n",
       "    <tr>\n",
       "      <td>2</td>\n",
       "      <td>Smartphone Samsung Galaxy A20s, 32GB, 13MP, Te...</td>\n",
       "      <td>De R$ 1.299,00 por</td>\n",
       "      <td>R$ 1.029,90</td>\n",
       "    </tr>\n",
       "    <tr>\n",
       "      <td>3</td>\n",
       "      <td>Roteador Gamer Wireless ASUS RT-AC86U, Dual ba...</td>\n",
       "      <td>De R$ 2.830,47 por</td>\n",
       "      <td>R$ 1.249,90</td>\n",
       "    </tr>\n",
       "    <tr>\n",
       "      <td>4</td>\n",
       "      <td>Headphone Bluetooth JBL Live 400BT, Preto - JB...</td>\n",
       "      <td>De R$ 616,35 por</td>\n",
       "      <td>R$ 448,90</td>\n",
       "    </tr>\n",
       "    <tr>\n",
       "      <td>...</td>\n",
       "      <td>...</td>\n",
       "      <td>...</td>\n",
       "      <td>...</td>\n",
       "    </tr>\n",
       "    <tr>\n",
       "      <td>1470</td>\n",
       "      <td>Placa-Mãe Asus EX-A320M-Gaming, AMD AM4, mATX,...</td>\n",
       "      <td>De R$ 583,41 por</td>\n",
       "      <td>R$ 459,90</td>\n",
       "    </tr>\n",
       "    <tr>\n",
       "      <td>1471</td>\n",
       "      <td>Memória HyperX Fury RGB, 32GB (2x16GB), 3600MH...</td>\n",
       "      <td>De R$ 2.026,94 por</td>\n",
       "      <td>R$ 1.699,90</td>\n",
       "    </tr>\n",
       "    <tr>\n",
       "      <td>1472</td>\n",
       "      <td>Processador AMD Ryzen Threadripper 2950X, Cach...</td>\n",
       "      <td>De R$ 6.628,12 por</td>\n",
       "      <td>R$ 5.419,90</td>\n",
       "    </tr>\n",
       "    <tr>\n",
       "      <td>1473</td>\n",
       "      <td>Placa-Mãe Gigabyte Aorus Z490 Aorus Xtreme, In...</td>\n",
       "      <td>De R$ 10.588,12 por</td>\n",
       "      <td>R$ 7.699,90</td>\n",
       "    </tr>\n",
       "    <tr>\n",
       "      <td>1474</td>\n",
       "      <td>Cooler para Processador PCYes Nótus T, AMD/Int...</td>\n",
       "      <td>De R$ 69,29 por</td>\n",
       "      <td>R$ 52,90</td>\n",
       "    </tr>\n",
       "  </tbody>\n",
       "</table>\n",
       "<p>1475 rows × 3 columns</p>\n",
       "</div>"
      ],
      "text/plain": [
       "                                           nome_produto        valor_a_prazo  \\\n",
       "0     Notebook Lenovo B330 Intel Core i3-7020U, 4GB,...   De R$ 3.473,58 por   \n",
       "1        Cadeira Office DT3 Sports Spider Red - 12057-5   De R$ 2.499,90 por   \n",
       "2     Smartphone Samsung Galaxy A20s, 32GB, 13MP, Te...   De R$ 1.299,00 por   \n",
       "3     Roteador Gamer Wireless ASUS RT-AC86U, Dual ba...   De R$ 2.830,47 por   \n",
       "4     Headphone Bluetooth JBL Live 400BT, Preto - JB...     De R$ 616,35 por   \n",
       "...                                                 ...                  ...   \n",
       "1470  Placa-Mãe Asus EX-A320M-Gaming, AMD AM4, mATX,...     De R$ 583,41 por   \n",
       "1471  Memória HyperX Fury RGB, 32GB (2x16GB), 3600MH...   De R$ 2.026,94 por   \n",
       "1472  Processador AMD Ryzen Threadripper 2950X, Cach...   De R$ 6.628,12 por   \n",
       "1473  Placa-Mãe Gigabyte Aorus Z490 Aorus Xtreme, In...  De R$ 10.588,12 por   \n",
       "1474  Cooler para Processador PCYes Nótus T, AMD/Int...      De R$ 69,29 por   \n",
       "\n",
       "     valor_a_vista  \n",
       "0      R$ 3.099,90  \n",
       "1      R$ 1.999,90  \n",
       "2      R$ 1.029,90  \n",
       "3      R$ 1.249,90  \n",
       "4        R$ 448,90  \n",
       "...            ...  \n",
       "1470     R$ 459,90  \n",
       "1471   R$ 1.699,90  \n",
       "1472   R$ 5.419,90  \n",
       "1473   R$ 7.699,90  \n",
       "1474      R$ 52,90  \n",
       "\n",
       "[1475 rows x 3 columns]"
      ]
     },
     "execution_count": 76,
     "metadata": {},
     "output_type": "execute_result"
    }
   ],
   "source": [
    "promocoes_kabum"
   ]
  },
  {
   "cell_type": "code",
   "execution_count": null,
   "metadata": {},
   "outputs": [],
   "source": []
  }
 ],
 "metadata": {
  "kernelspec": {
   "display_name": "Python 3",
   "language": "python",
   "name": "python3"
  },
  "language_info": {
   "codemirror_mode": {
    "name": "ipython",
    "version": 3
   },
   "file_extension": ".py",
   "mimetype": "text/x-python",
   "name": "python",
   "nbconvert_exporter": "python",
   "pygments_lexer": "ipython3",
   "version": "3.7.4"
  }
 },
 "nbformat": 4,
 "nbformat_minor": 2
}

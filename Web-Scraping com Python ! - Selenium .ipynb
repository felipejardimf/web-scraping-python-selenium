{
 "cells": [
  {
   "cell_type": "markdown",
   "metadata": {},
   "source": [
    "Selenium\n",
    "\n",
    "### Instalação ###\n",
    "\n",
    "pip install selenium\n",
    "\n",
    "Realizar download do WebDriver:\n",
    "\n",
    "Antes de realizar o download, verifique a versão correta do navegador.\n",
    "    \n",
    "Google Chrome: **[Google Chrome Webdriver](https://chromedriver.chromium.org/downloads)**\n",
    "\n",
    "Mozilla Firefox: **[Mozilla Webdriver](https://github.com/mozilla/geckodriver/releases)**\n",
    "\n",
    "\n",
    "### Importação ###\n",
    "\n",
    "import selenium\n",
    "\n",
    "\n",
    "#biblioteca responsável por interagir com o Browser\n",
    "\n",
    "from selenium import webdriver\n",
    "\n",
    "#biblioteca responsável por realizar interações com o documento HTML , enviando comandos do teclado.\n",
    "\n",
    "from selenium.webdriver.common.keys import Keys\n",
    "\n",
    "\n",
    "\n",
    "buscando elementos em um documento HTML:\n",
    "\n",
    "find_element_by_id > procura elemento HTML pelo ID ( uma das melhores opções, uma vez que o id é unico ! )\n",
    "find_element_by_name > procura elemento HTML pelo nome \n",
    "find_element_by_xpath > Procura elemento pelo XPATH\n",
    "find_element_by_link_text > Procura elemento pelo texto\n",
    "find_element_by_partial_link_text > Procura elemento pelo texto parcial\n",
    "find_element_by_tag_name > procura elemento pela TAG HTML\n",
    "find_element_by_class_name > procura elemento pelo nome da classe\n",
    "find_element_by_css_selector > procura elemento por atributos e CSS\n",
    "\n",
    "find_elements.* ( * representa todos exemplos acima, a diferença é que irá buscar todos elementos HTML correspondentes, não apenas o primeiro )\n",
    "\n"
   ]
  },
  {
   "cell_type": "markdown",
   "metadata": {},
   "source": [
    "## Como utilizar o Selenium ?"
   ]
  },
  {
   "cell_type": "code",
   "execution_count": 23,
   "metadata": {},
   "outputs": [],
   "source": [
    "import selenium\n",
    "from selenium import webdriver"
   ]
  },
  {
   "cell_type": "code",
   "execution_count": 26,
   "metadata": {},
   "outputs": [],
   "source": [
    "#Criando uma nova instância de nosso Webdriver para o navegador Google Chrome\n",
    "driver = webdriver.Chrome()\n",
    "\n",
    "#método get do Selenium é um pouco diferente das libs convencionais ( requests, urllib)\n",
    "#ele espera até que todo conteúdo do site seja carregado ( AJAX, manifests) e depois manda a requisição GET.\n",
    "driver.get(\"https://www.kabum.com.br\")\n",
    "\n",
    "#faça as operações necessárias \n",
    "\n",
    "#sempre feche a conexão do webdriver.\n",
    "driver.close()"
   ]
  },
  {
   "cell_type": "code",
   "execution_count": null,
   "metadata": {},
   "outputs": [],
   "source": []
  },
  {
   "cell_type": "markdown",
   "metadata": {},
   "source": [
    "## Localizando elementos com Selenium"
   ]
  },
  {
   "cell_type": "code",
   "execution_count": 2,
   "metadata": {},
   "outputs": [],
   "source": [
    "import selenium\n",
    "from selenium import webdriver"
   ]
  },
  {
   "cell_type": "code",
   "execution_count": 3,
   "metadata": {},
   "outputs": [],
   "source": [
    "driver = webdriver.Chrome()"
   ]
  },
  {
   "cell_type": "code",
   "execution_count": null,
   "metadata": {},
   "outputs": [],
   "source": [
    "driver.get(\"https://www.kabum.com.br\")"
   ]
  },
  {
   "cell_type": "code",
   "execution_count": null,
   "metadata": {},
   "outputs": [],
   "source": [
    "elemento = driver.find_element_by_id('popup-blackfriday')"
   ]
  },
  {
   "cell_type": "code",
   "execution_count": null,
   "metadata": {},
   "outputs": [],
   "source": [
    "elemento = driver.find_element_by_name('popup-blackfriday')"
   ]
  },
  {
   "cell_type": "code",
   "execution_count": null,
   "metadata": {},
   "outputs": [],
   "source": [
    "elemento = driver.find_element_by_link_text('popup-blackfriday')"
   ]
  },
  {
   "cell_type": "code",
   "execution_count": null,
   "metadata": {},
   "outputs": [],
   "source": [
    "elemento = driver.find_element_by_partial_link_text('popup-blackfriday')"
   ]
  },
  {
   "cell_type": "code",
   "execution_count": null,
   "metadata": {},
   "outputs": [],
   "source": [
    "elemento = driver.find_element_by_tag_name('popup-blackfriday')"
   ]
  },
  {
   "cell_type": "code",
   "execution_count": null,
   "metadata": {},
   "outputs": [],
   "source": [
    "elemento = driver.find_element_by_class_name('popup-blackfriday')"
   ]
  },
  {
   "cell_type": "code",
   "execution_count": null,
   "metadata": {},
   "outputs": [],
   "source": [
    "elemento = driver.find_element_by_css_selector('popup-blackfriday')"
   ]
  },
  {
   "cell_type": "code",
   "execution_count": null,
   "metadata": {},
   "outputs": [],
   "source": [
    "#Localizando Múltiplos elementos:"
   ]
  },
  {
   "cell_type": "code",
   "execution_count": null,
   "metadata": {},
   "outputs": [],
   "source": [
    "elementos = driver.find_elements_by_id('popup-blackfriday')"
   ]
  },
  {
   "cell_type": "code",
   "execution_count": null,
   "metadata": {},
   "outputs": [],
   "source": [
    "elementos = driver.find_elements_by_name('popup-blackfriday')"
   ]
  },
  {
   "cell_type": "code",
   "execution_count": null,
   "metadata": {},
   "outputs": [],
   "source": [
    "elementos = driver.find_elements_by_link_text('popup-blackfriday')"
   ]
  },
  {
   "cell_type": "code",
   "execution_count": null,
   "metadata": {},
   "outputs": [],
   "source": [
    "elementos = driver.find_elements_by_partial_link_text('popup-blackfriday')"
   ]
  },
  {
   "cell_type": "code",
   "execution_count": null,
   "metadata": {},
   "outputs": [],
   "source": [
    "elementos = driver.find_elements_by_tag_name('popup-blackfriday')"
   ]
  },
  {
   "cell_type": "code",
   "execution_count": null,
   "metadata": {},
   "outputs": [],
   "source": [
    "elementos = driver.find_elements_by_class_name('popup-blackfriday')"
   ]
  },
  {
   "cell_type": "code",
   "execution_count": null,
   "metadata": {},
   "outputs": [],
   "source": [
    "elementos = driver.find_elements_by_css_selector('popup-blackfriday')"
   ]
  },
  {
   "cell_type": "code",
   "execution_count": null,
   "metadata": {},
   "outputs": [],
   "source": [
    "driver.close()"
   ]
  },
  {
   "cell_type": "markdown",
   "metadata": {},
   "source": [
    "### Outros métodos de busca :"
   ]
  },
  {
   "cell_type": "code",
   "execution_count": null,
   "metadata": {},
   "outputs": [],
   "source": [
    "from selenium.webdriver.common.by import By\n",
    "\n",
    "#Atributos Disponíveis para a classe By:\n",
    "\n",
    "#ID = \"id\"\n",
    "#XPATH = \"xpath\"\n",
    "#LINK_TEXT = \"link text\"\n",
    "#PARTIAL_LINK_TEXT = \"partial link text\"\n",
    "#NAME = \"name\"\n",
    "#TAG_NAME = \"tag name\"\n",
    "#CLASS_NAME = \"class name\"\n",
    "#CSS_SELECTOR = \"css selector\"\n",
    "\n",
    "elemento = driver.find_element(By.ID, '//button[text()=\"Some text\"]')\n",
    "elementos = driver.find_elements(By.ID, '//button')"
   ]
  },
  {
   "cell_type": "markdown",
   "metadata": {},
   "source": [
    "## XPATH"
   ]
  },
  {
   "cell_type": "raw",
   "metadata": {},
   "source": [
    "XPath é definido como caminho XML. É a sintaxe ou linguagem para procurar qualquer elemento em uma página web usando estrutura de HTML DOM. Para nosso uso, podemos comparar como um caminho absoluto do elemento HTML."
   ]
  },
  {
   "cell_type": "raw",
   "metadata": {},
   "source": [
    "Xpath=//nomedatag[@atributo='valor']\n",
    "\n",
    "\n",
    "XPATH Absoluto:\n",
    "\n",
    "é o caminho absoluto do elemento HTML, desde a tag HTML ( começa com /html)\n",
    "    \n",
    "/html/body/div/header/div/div[2]/div/ul[2]/li[1]/div[1]/pre/code\n",
    "\n",
    "\n",
    "XPATH relativo:\n",
    "\n",
    "é o caminho absoluto do elemento HTML, a partir do próprio elemento .\n",
    "\n",
    "//*[@id=\"dive-into-python\"]/ul[2]/li[1]/div[1]/pre/code    \n"
   ]
  },
  {
   "cell_type": "code",
   "execution_count": 167,
   "metadata": {},
   "outputs": [],
   "source": [
    "driver = webdriver.Chrome()\n",
    "driver.get(\"https://www.python.org\")\n",
    "elemento = driver.find_element_by_xpath('//*[@id=\"dive-into-python\"]/ul[2]/li[1]/div[1]/pre/code')\n"
   ]
  },
  {
   "cell_type": "code",
   "execution_count": 168,
   "metadata": {},
   "outputs": [
    {
     "data": {
      "text/plain": [
       "\"# Python 3: Fibonacci series up to n\\n>>> def fib(n):\\n>>>     a, b = 0, 1\\n>>>     while a < n:\\n>>>         print(a, end=' ')\\n>>>         a, b = b, a+b\\n>>>     print()\\n>>> fib(1000)\\n0 1 1 2 3 5 8 13 21 34 55 89 144 233 377 610 987\""
      ]
     },
     "execution_count": 168,
     "metadata": {},
     "output_type": "execute_result"
    }
   ],
   "source": [
    "elemento.text"
   ]
  },
  {
   "cell_type": "markdown",
   "metadata": {},
   "source": [
    "### Desvantagens do XPATH:"
   ]
  },
  {
   "cell_type": "code",
   "execution_count": null,
   "metadata": {},
   "outputs": [],
   "source": [
    "- Pode ser um pouco mais lento.\n",
    "- Caso o site mude de estrutura, o XPATH Absoluto de um elemento que já existia ,mudará de lugar no documento HTML "
   ]
  },
  {
   "cell_type": "code",
   "execution_count": null,
   "metadata": {},
   "outputs": [],
   "source": []
  },
  {
   "cell_type": "markdown",
   "metadata": {},
   "source": [
    "# Interagindo com o website"
   ]
  },
  {
   "cell_type": "markdown",
   "metadata": {},
   "source": [
    "#### Enviando teclas"
   ]
  },
  {
   "cell_type": "code",
   "execution_count": 114,
   "metadata": {},
   "outputs": [],
   "source": [
    "import selenium\n",
    "from selenium import webdriver\n",
    "from selenium.webdriver.common.keys import Keys"
   ]
  },
  {
   "cell_type": "code",
   "execution_count": 110,
   "metadata": {},
   "outputs": [],
   "source": [
    "driver = webdriver.Chrome()\n",
    "driver.get(\"https://www.kalunga.com.br\")\n",
    "search = driver.find_element_by_id('txtBuscaProd')\n",
    "search.clear() #limpa o elemento , no caso de já conter algo escrito.\n",
    "search.send_keys('mouse') # enviando a string 'mouse' para o elemento html\n",
    "#search.send_keys(Keys.RETURN) # enviando a tecla enter para o elemento HTML.\n",
    "click_search = driver.find_element_by_id('btnPesquisa')\n",
    "click_search.click() #podemos também clicar em algum elemento\n",
    "driver.close()"
   ]
  },
  {
   "cell_type": "markdown",
   "metadata": {},
   "source": [
    "#### Trabalhando com Frames"
   ]
  },
  {
   "cell_type": "code",
   "execution_count": 109,
   "metadata": {},
   "outputs": [],
   "source": [
    "from selenium import webdriver\n",
    "from selenium.webdriver.common.by import By\n",
    "from selenium.webdriver.support.ui import WebDriverWait\n",
    "import time\n",
    "from selenium.webdriver.support import expected_conditions as EC"
   ]
  },
  {
   "cell_type": "code",
   "execution_count": 112,
   "metadata": {},
   "outputs": [],
   "source": [
    "driver = webdriver.Chrome()\n",
    "driver.get('https://www.w3schools.com/html/tryit.asp?filename=tryhtml_iframe_height_width')\n",
    "frame = driver.find_element_by_xpath('/html/body/iframe')\n",
    "driver.switch_to.frame(frame)\n"
   ]
  },
  {
   "cell_type": "code",
   "execution_count": null,
   "metadata": {},
   "outputs": [],
   "source": [
    "driver = webdriver.Chrome()\n",
    "driver.get(\"https://portal.trf1.jus.br/Servicos/Certidao/\")\n",
    "frame = driver.find_element(By.XPATH, '//*[@id=\"Emitir\"]/div[9]/div/div/iframe')\n",
    "driver.switch_to.frame(frame)\n",
    "driver.find_element(By.XPATH,'//*[@id=\"recaptcha-anchor\"]/div[1]').click()   "
   ]
  },
  {
   "cell_type": "code",
   "execution_count": null,
   "metadata": {},
   "outputs": [],
   "source": [
    "#Usando condicionais"
   ]
  },
  {
   "cell_type": "code",
   "execution_count": 104,
   "metadata": {},
   "outputs": [],
   "source": [
    "driver = webdriver.Chrome()\n",
    "driver.get(\"https://portal.trf1.jus.br/Servicos/Certidao/\")\n",
    "element = WebDriverWait(driver, 20).until(\n",
    "        EC.frame_to_be_available_and_switch_to_it((By.XPATH, '//*[@id=\"Emitir\"]/div[9]/div/div/iframe')))\n",
    "driver.find_element(By.XPATH,'//*[@id=\"recaptcha-anchor\"]/div[1]').click()   \n"
   ]
  },
  {
   "cell_type": "markdown",
   "metadata": {},
   "source": [
    "#### Action Chains"
   ]
  },
  {
   "cell_type": "markdown",
   "metadata": {},
   "source": [
    "ActionChains é uma função do selenium que permite automatizar interações com o HTML,como: movimentação do mouse,ações com os botões do mouse,pressionar teclas,etc. \n",
    "É útil para realizar funções mais complexas, como drag and drop.\n",
    "Quando voce chama uma ação do ActionChains, ela é armazenada em uma fila de ações. Quando usar perform(), os eventos são disparados na ordem que foram chamados.\n",
    "\n",
    "Documentação : **[Docs]('https://www.selenium.dev/selenium/docs/api/py/webdriver/selenium.webdriver.common.action_chains.html')**\n",
    "\n",
    "Alguns Métodos disponíveis em ActionChains:\n",
    "\n",
    "click - clica em um elemento HTML.\n",
    "\n",
    "click_and_hold - clica e segura um elemento HTML\n",
    "\n",
    "context_click - Realiza um clique com o botão direito do mouse , no elemento HTML.\n",
    "\n",
    "double_click - Realiza um duplo-clique em um elemento HTML\n",
    "\n",
    "drag_and_drop - Segura o elemento de origem com o botão esquerdo do mouse,\n",
    "depois move o elemento de origem para o elemento de destino, e o solta.\n",
    "\n"
   ]
  },
  {
   "cell_type": "code",
   "execution_count": 118,
   "metadata": {},
   "outputs": [],
   "source": [
    "from selenium.webdriver import ActionChains\n"
   ]
  },
  {
   "cell_type": "code",
   "execution_count": 121,
   "metadata": {},
   "outputs": [],
   "source": [
    "driver = webdriver.Chrome()\n",
    "driver.get('http://clickspeedniko.blogspot.com/')\n",
    "mouse = driver.find_element_by_xpath('//*[@id=\"post-body-6459194318143048610\"]/div[1]/button[2]')\n",
    "actionChains = ActionChains(driver)\n",
    "actionChains.double_click(mouse).perform()\n",
    "actionChains.double_click(mouse).perform()\n",
    "actionChains.double_click(mouse).perform()\n",
    "actionChains.double_click(mouse).perform()"
   ]
  },
  {
   "cell_type": "code",
   "execution_count": null,
   "metadata": {},
   "outputs": [],
   "source": [
    "#algumas funções não precisam do Action Chains, como o click"
   ]
  },
  {
   "cell_type": "code",
   "execution_count": null,
   "metadata": {},
   "outputs": [],
   "source": [
    "import re"
   ]
  },
  {
   "cell_type": "code",
   "execution_count": null,
   "metadata": {},
   "outputs": [],
   "source": [
    "driver = webdriver.Chrome()\n",
    "driver.get('https://orteil.dashnet.org/cookieclicker/')\n",
    "time.sleep(5)\n",
    "mouse = driver.find_element_by_id('bigCookie')\n",
    "num = driver.find_element_by_id('cookies')\n",
    "while re.findall('^\\d+',num.text)[0] != '30':\n",
    "    mouse.click()\n",
    "    num = driver.find_element_by_id('cookies')\n",
    "    print(num.text)"
   ]
  },
  {
   "cell_type": "markdown",
   "metadata": {},
   "source": [
    "# Espera (Waits)"
   ]
  },
  {
   "cell_type": "markdown",
   "metadata": {},
   "source": [
    "## Explícito"
   ]
  },
  {
   "cell_type": "markdown",
   "metadata": {},
   "source": [
    "A espera explícita em Selenium, espera até que uma condição ocorra para continuar com o código posteriormente.Existem vários métodos dessa lib que podem ajudar a criar códigos que irão esperar o tanto que for necessário. ( usando WebdriverWait juntamente com expected_conditions)"
   ]
  },
  {
   "cell_type": "code",
   "execution_count": 169,
   "metadata": {},
   "outputs": [],
   "source": [
    "from selenium import webdriver\n",
    "from selenium.webdriver.common.by import By\n",
    "from selenium.webdriver.support.ui import WebDriverWait\n",
    "from selenium.webdriver.support import expected_conditions as EC\n",
    "\n",
    "driver = webdriver.Chrome()\n",
    "driver.get(\"https://orteil.dashnet.org/cookieclicker/\")\n",
    "try:\n",
    "    element = WebDriverWait(driver, 10).until(\n",
    "        EC.presence_of_element_located((By.ID, \"bigCookie\"))\n",
    "    )\n",
    "finally:\n",
    "    driver.quit()"
   ]
  },
  {
   "cell_type": "markdown",
   "metadata": {},
   "source": [
    "#### Expected Conditions"
   ]
  },
  {
   "cell_type": "markdown",
   "metadata": {},
   "source": [
    "Condições disponíveis:(title_is,title_contains,presence_of_element_located,visibility_of_element_located,visibility_of,presence_of_all_elements_located,text_to_be_present_in_element,text_to_be_present_in_element_value,frame_to_be_available_and_switch_to_it,invisibility_of_element_located,element_to_be_clickable,staleness_of,element_to_be_selected,element_located_to_be_selected,element_selection_state_to_be,element_located_selection_state_to_be,alert_is_present)\n",
    "\n",
    "Documentação : \n",
    "**[Docs](https://www.selenium.dev/selenium/docs/api/py/webdriver_support/selenium.webdriver.support.expected_conditions.html?highlight=expected)**\n",
    "\n",
    "    \n"
   ]
  },
  {
   "cell_type": "markdown",
   "metadata": {},
   "source": [
    "## Implícito"
   ]
  },
  {
   "cell_type": "raw",
   "metadata": {},
   "source": [
    "Com Selenium, a espera implícita diz ao Webdriver para aguardar até um certo momento, enquanto certos elementos do documento HTML não foram completamente carregados. O padrão é 0 ( segundos )."
   ]
  },
  {
   "cell_type": "code",
   "execution_count": 31,
   "metadata": {},
   "outputs": [
    {
     "name": "stdout",
     "output_type": "stream",
     "text": [
      "https://www.kabum.com.br/\n",
      "https://www.kabum.com.br/cgi-local/site/minha_conta/minha_conta.cgi?link=09\n",
      "https://www.kabum.com.br/cgi-local/site/carrinho/carrinho.cgi\n",
      "https://www.kabum.com.br/\n",
      "https://www.kabum.com.br/cgi-local/site/minha_conta/minha_conta.cgi?link=09\n",
      "https://www.kabum.com.br/cgi-local/site/carrinho/carrinho.cgi\n",
      "https://www.kabum.com.br/cgi-local/site/login/login.cgi\n",
      "https://www.kabum.com.br/cgi-local/site/minha_conta/minha_conta.cgi?link=08\n",
      "https://www.kabum.com.br/#\n",
      "https://www.kabum.com.br/cgi-local/site/minha_conta/minha_conta.cgi\n",
      "https://www.kabum.com.br/cgi-local/site/institucional/sobre.cgi\n",
      "https://www.kabum.com.br/cgi-local/site/institucional/politicas.cgi\n",
      "https://www.kabum.com.br/cgi-local/site/faq/faq.cgi\n",
      "https://www.kabum.com.br/hardware\n",
      "https://www.kabum.com.br/hardware/ssd-2-5\n",
      "https://www.kabum.com.br/hardware/controladoras\n",
      "https://www.kabum.com.br/hardware/rede-wireless-sem-fio\n",
      "https://www.kabum.com.br/hardware/rede-wired-com-fio\n",
      "https://www.kabum.com.br/hardware/placas-de-som\n",
      "https://www.kabum.com.br/hardware/processadores\n",
      "https://www.kabum.com.br/hardware/placas-mae\n",
      "https://www.kabum.com.br/hardware/memoria-ram\n",
      "https://www.kabum.com.br/hardware/fontes\n",
      "https://www.kabum.com.br/hardware/drives\n",
      "https://www.kabum.com.br/hardware/disco-rigido-hd\n",
      "https://www.kabum.com.br/hardware/coolers\n",
      "https://www.kabum.com.br/hardware/switch-kvm\n",
      "https://www.kabum.com.br/hardware/placa-de-video-vga\n",
      "https://www.kabum.com.br/hardware/ssd-2-5\n",
      "https://www.kabum.com.br/celular-telefone/smartphones\n",
      "https://www.kabum.com.br/celular-telefone/smartphones/alcatel\n",
      "https://www.kabum.com.br/celular-telefone/smartphones/semp-go\n",
      "https://www.kabum.com.br/celular-telefone/smartphones/tcl\n",
      "https://www.kabum.com.br/celular-telefone/smartphones/meizu\n",
      "https://www.kabum.com.br/celular-telefone/smartphones/tp-link\n",
      "https://www.kabum.com.br/celular-telefone/smartphones/quantum\n",
      "https://www.kabum.com.br/celular-telefone/smartphones/asus\n",
      "https://www.kabum.com.br/celular-telefone/smartphones/blu\n",
      "https://www.kabum.com.br/celular-telefone/smartphones/multilaser\n",
      "https://www.kabum.com.br/celular-telefone/smartphones/samsung\n",
      "https://www.kabum.com.br/celular-telefone/smartphones/sony\n",
      "https://www.kabum.com.br/celular-telefone/smartphones/positivo\n",
      "https://www.kabum.com.br/celular-telefone/smartphones/nokia\n",
      "https://www.kabum.com.br/celular-telefone/smartphones/motorola\n",
      "https://www.kabum.com.br/celular-telefone/smartphones/lg\n",
      "https://www.kabum.com.br/celular-telefone/smartphones/apple\n",
      "https://www.kabum.com.br/celular-telefone/smartphones/xiaomi\n",
      "https://www.kabum.com.br/celular-telefone/smartphones/samsung\n",
      "https://www.kabum.com.br/perifericos\n",
      "https://www.kabum.com.br/perifericos/acessorios\n",
      "https://www.kabum.com.br/perifericos/teclado-gamer\n",
      "https://www.kabum.com.br/perifericos/-mouse-gamer\n",
      "https://www.kabum.com.br/perifericos/kit-gamer\n",
      "https://www.kabum.com.br/perifericos/headset-gamer\n",
      "https://www.kabum.com.br/perifericos/escritorio\n",
      "https://www.kabum.com.br/perifericos/mesa-digitalizadora\n",
      "https://www.kabum.com.br/perifericos/video-conferencia\n",
      "https://www.kabum.com.br/perifericos/pen-drive\n",
      "https://www.kabum.com.br/perifericos/gabinetes\n",
      "https://www.kabum.com.br/perifericos/webcam\n",
      "https://www.kabum.com.br/perifericos/som-acessorios\n",
      "https://www.kabum.com.br/perifericos/energia\n",
      "https://www.kabum.com.br/perifericos/suportes\n",
      "https://www.kabum.com.br/perifericos/bolsas\n",
      "https://www.kabum.com.br/perifericos/cabos\n",
      "https://www.kabum.com.br/perifericos/adaptadores\n",
      "https://www.kabum.com.br/perifericos/streamer\n",
      "https://www.kabum.com.br/perifericos/teclado-mouse\n",
      "https://www.kabum.com.br/cgi-local/site/listagem/listagem.cgi?string=razer\n",
      "https://www.kabum.com.br/computadores\n",
      "https://www.kabum.com.br/computadores/computadores\n",
      "https://www.kabum.com.br/computadores/computador-gamer\n",
      "https://www.kabum.com.br/computadores/tablets\n",
      "https://www.kabum.com.br/computadores/softwares\n",
      "https://www.kabum.com.br/computadores/servidores\n",
      "https://www.kabum.com.br/computadores/scanners\n",
      "https://www.kabum.com.br/computadores/impressoras\n",
      "https://www.kabum.com.br/computadores/notebooks-ultrabooks\n",
      "https://www.kabum.com.br/computadores/notebook-gamer\n",
      "https://www.kabum.com.br/computadores/monitores\n",
      "https://www.kabum.com.br/computadores/softwares/office\n",
      "https://www.kabum.com.br/hardware/placa-de-video-vga\n",
      "https://www.kabum.com.br/hardware/placa-de-video-vga/acessorios\n",
      "https://www.kabum.com.br/hardware/placa-de-video-vga/amd-ati\n",
      "https://www.kabum.com.br/hardware/placa-de-video-vga/nvidia\n",
      "https://www.kabum.com.br/hardware/placa-de-video-vga/nvidia/geforce-rtx\n",
      "https://www.kabum.com.br/computadores/monitores\n",
      "https://www.kabum.com.br/computadores/monitores/lcd\n",
      "https://www.kabum.com.br/computadores/monitores/led\n",
      "https://www.kabum.com.br/computadores/monitores/gamers\n",
      "https://www.kabum.com.br/produto/111161\n",
      "https://www.kabum.com.br/perifericos/teclado-mouse\n",
      "https://www.kabum.com.br/perifericos/teclado-mouse/mouse-com-fio\n",
      "https://www.kabum.com.br/perifericos/teclado-mouse/mouse-sem-fio\n",
      "https://www.kabum.com.br/perifericos/teclado-mouse/teclado-com-fio\n",
      "https://www.kabum.com.br/perifericos/teclado-mouse/teclado-sem-fio\n",
      "https://www.kabum.com.br/perifericos/teclado-mouse/teclado-mouse-combo\n",
      "https://www.kabum.com.br/perifericos/teclado-mouse/mouse-pad\n",
      "https://www.kabum.com.br/perifericos/teclado-mouse/acessorios\n",
      "https://www.kabum.com.br/cgi-local/site/listagem/listagem.cgi?string=hyperx\n",
      "https://www.kabum.com.br/gamer\n",
      "https://www.kabum.com.br/gamer/xbox-360\n",
      "https://www.kabum.com.br/gamer/xbox-one\n",
      "https://www.kabum.com.br/gamer/playstation-4\n",
      "https://www.kabum.com.br/gamer/pc\n",
      "https://www.kabum.com.br/gamer/e-sports\n",
      "https://www.kabum.com.br/gamer/tectoy\n",
      "https://www.kabum.com.br/gamer/nintendo-switch\n",
      "https://www.kabum.com.br/gamer/mesa-gamer\n",
      "https://www.kabum.com.br/cgi-local/site/listagem/listagem.cgi?string=cadeira+gamer&btnG=\n",
      "https://www.kabum.com.br/#\n",
      "https://www.kabum.com.br/eletronicos/calculadoras\n",
      "https://www.kabum.com.br/perifericos/mesa-digitalizadora\n",
      "https://www.kabum.com.br/gamer/cadeiras-gamer\n",
      "https://www.kabum.com.br/hardware/rede-wireless-sem-fio\n",
      "https://www.kabum.com.br/hardware/rede-wired-com-fio\n",
      "https://www.kabum.com.br/computadores/tablets\n",
      "https://www.kabum.com.br/computadores/softwares\n",
      "https://www.kabum.com.br/perifericos/pen-drive\n",
      "https://www.kabum.com.br/perifericos/suprimentos\n",
      "https://www.kabum.com.br/perifericos/webcam\n",
      "https://www.kabum.com.br/perifericos/escritorio\n",
      "https://www.kabum.com.br/perifericos/cabos\n",
      "https://www.kabum.com.br/computadores/computadores\n",
      "https://www.kabum.com.br/computadores/notebooks-ultrabooks\n",
      "https://www.kabum.com.br/computadores/impressoras\n",
      "https://www.kabum.com.br/computadores/scanners\n",
      "https://www.kabum.com.br/computadores/servidores\n",
      "https://www.kabum.com.br/celular-telefone/smartphones\n",
      "https://www.kabum.com.br/computadores/monitores\n",
      "https://www.kabum.com.br/perifericos/teclado-mouse\n",
      "https://www.kabum.com.br/cgi-local/site/listagem/listagem.cgi?string=sn750\n",
      "https://www.kabum.com.br/#\n",
      "https://www.kabum.com.br/eletronicos\n",
      "https://www.kabum.com.br/presentes\n",
      "https://www.kabum.com.br/celular-telefone\n",
      "https://www.kabum.com.br/brinquedos\n",
      "https://www.kabum.com.br/geek\n",
      "https://www.kabum.com.br/smart-home\n",
      "https://www.kabum.com.br/projetores\n",
      "https://www.kabum.com.br/conectividade\n",
      "https://www.kabum.com.br/tv\n",
      "https://www.kabum.com.br/audio\n",
      "https://www.kabum.com.br/beleza-saude\n",
      "https://www.kabum.com.br/casa-jardim\n",
      "https://www.kabum.com.br/esporte-e-lazer\n",
      "https://www.kabum.com.br/cameras-digitais\n",
      "https://www.kabum.com.br/computadores/tablets\n",
      "https://www.kabum.com.br/instrumento-musical\n",
      "https://www.kabum.com.br/relogios\n",
      "https://www.kabum.com.br/seguranca\n",
      "https://www.kabum.com.br/automotivo\n",
      "https://www.kabum.com.br/eletroportateis\n",
      "https://www.kabum.com.br/ferramentas\n",
      "https://www.kabum.com.br/automacao\n",
      "https://www.kabum.com.br/cadeiras\n",
      "https://www.kabum.com.br/ofertas/diadospais?int_banner_name=diadospais&int_banner_position=theme_home\n",
      "https://www.kabum.com.br/cgi-local/site/tools/banner.cgi?W=LTx1367&int_banner_name=THEME-DIA-DOS-PAIS-2020&int_banner_position=tematizacao_home\n",
      "https://www.kabum.com.br/hardware/placa-de-video-vga?int_banner_name=placa-de-video-vga&int_banner_position=carrossel_topo_home\n",
      "https://www.kabum.com.br/hardware/placas-mae?int_banner_name=placas-mae&int_banner_position=carrossel_topo_home\n",
      "https://www.kabum.com.br/hardware/processadores?int_banner_name=processadores&int_banner_position=carrossel_topo_home\n",
      "https://www.kabum.com.br/celular-telefone/smartphones?int_banner_name=smartphones&int_banner_position=carrossel_topo_home\n",
      "https://www.kabum.com.br/hardware/ssd-2-5?int_banner_name=ssd-2-5&int_banner_position=carrossel_topo_home\n",
      "https://www.kabum.com.br/perifericos/teclado-mouse?int_banner_name=teclado-mouse&int_banner_position=carrossel_topo_home\n",
      "https://www.kabum.com.br/celular-telefone/smartphones/apple?int_banner_name=apple&int_banner_position=carrossel_topo_home\n",
      "https://www.kabum.com.br/conectividade?int_banner_name=conectividade&int_banner_position=carrossel_topo_home\n",
      "https://www.kabum.com.br/hardware/disco-rigido-hd?int_banner_name=disco-rigido-hd&int_banner_position=carrossel_topo_home\n",
      "https://www.kabum.com.br/gamer?int_banner_name=gamer&int_banner_position=carrossel_topo_home\n",
      "https://www.kabum.com.br/perifericos/headset-gamer?int_banner_name=headset-gamer&int_banner_position=carrossel_topo_home\n",
      "https://www.kabum.com.br/hardware/memoria-ram?int_banner_name=memoria-ram&int_banner_position=carrossel_topo_home\n",
      "https://www.kabum.com.br/computadores/monitores?int_banner_name=monitores&int_banner_position=carrossel_topo_home\n",
      "https://www.kabum.com.br/perifericos/pen-drive?int_banner_name=pen-drive&int_banner_position=carrossel_topo_home\n",
      "https://www.kabum.com.br/hardware/placa-de-video-vga?int_banner_name=placa-de-video-vga&int_banner_position=carrossel_topo_home\n",
      "https://www.kabum.com.br/hardware/placas-mae?int_banner_name=placas-mae&int_banner_position=carrossel_topo_home\n",
      "https://www.kabum.com.br/hardware/processadores?int_banner_name=processadores&int_banner_position=carrossel_topo_home\n"
     ]
    },
    {
     "name": "stdout",
     "output_type": "stream",
     "text": [
      "https://www.kabum.com.br/celular-telefone/smartphones?int_banner_name=smartphones&int_banner_position=carrossel_topo_home\n",
      "https://www.kabum.com.br/hardware/ssd-2-5?int_banner_name=ssd-2-5&int_banner_position=carrossel_topo_home\n",
      "https://www.kabum.com.br/perifericos/teclado-mouse?int_banner_name=teclado-mouse&int_banner_position=carrossel_topo_home\n",
      "https://www.kabum.com.br/celular-telefone/smartphones/apple?int_banner_name=apple&int_banner_position=carrossel_topo_home\n",
      "https://www.kabum.com.br/conectividade?int_banner_name=conectividade&int_banner_position=carrossel_topo_home\n",
      "https://www.kabum.com.br/hardware/disco-rigido-hd?int_banner_name=disco-rigido-hd&int_banner_position=carrossel_topo_home\n",
      "https://www.kabum.com.br/gamer?int_banner_name=gamer&int_banner_position=carrossel_topo_home\n",
      "https://www.kabum.com.br/perifericos/headset-gamer?int_banner_name=headset-gamer&int_banner_position=carrossel_topo_home\n",
      "https://www.kabum.com.br/hardware/memoria-ram?int_banner_name=memoria-ram&int_banner_position=carrossel_topo_home\n",
      "https://www.kabum.com.br/computadores/monitores?int_banner_name=monitores&int_banner_position=carrossel_topo_home\n",
      "https://www.kabum.com.br/perifericos/pen-drive?int_banner_name=pen-drive&int_banner_position=carrossel_topo_home\n",
      "https://www.kabum.com.br/hardware/placa-de-video-vga?int_banner_name=placa-de-video-vga&int_banner_position=carrossel_topo_home\n",
      "https://www.kabum.com.br/hardware/placas-mae?int_banner_name=placas-mae&int_banner_position=carrossel_topo_home\n",
      "https://www.kabum.com.br/hardware/processadores?int_banner_name=processadores&int_banner_position=carrossel_topo_home\n",
      "https://www.kabum.com.br/celular-telefone/smartphones?int_banner_name=smartphones&int_banner_position=carrossel_topo_home\n",
      "https://www.kabum.com.br/hardware/ssd-2-5?int_banner_name=ssd-2-5&int_banner_position=carrossel_topo_home\n",
      "https://www.kabum.com.br/perifericos/teclado-mouse?int_banner_name=teclado-mouse&int_banner_position=carrossel_topo_home\n",
      "https://www.kabum.com.br/hardware/controladoras\n",
      "https://www.kabum.com.br/hardware/coolers\n",
      "https://www.kabum.com.br/hardware/disco-rigido-hd\n",
      "https://www.kabum.com.br/hardware/drives\n",
      "https://www.kabum.com.br/hardware/fontes\n",
      "https://www.kabum.com.br/hardware/memoria-ram\n",
      "https://www.kabum.com.br/hardware/placa-de-video-vga\n",
      "https://www.kabum.com.br/hardware/placas-de-som\n",
      "https://www.kabum.com.br/hardware/placas-mae\n",
      "https://www.kabum.com.br/hardware/processadores\n",
      "https://www.kabum.com.br/hardware/rede-wired-com-fio\n",
      "https://www.kabum.com.br/hardware/rede-wireless-sem-fio\n",
      "https://www.kabum.com.br/hardware/ssd-2-5\n",
      "https://www.kabum.com.br/hardware/switch-kvm\n",
      "https://www.kabum.com.br/perifericos/acessorios\n",
      "https://www.kabum.com.br/perifericos/adaptadores\n",
      "https://www.kabum.com.br/perifericos/cabos\n",
      "https://www.kabum.com.br/perifericos/energia\n",
      "https://www.kabum.com.br/perifericos/escritorio\n",
      "https://www.kabum.com.br/perifericos/gabinetes\n",
      "https://www.kabum.com.br/perifericos/headset-gamer\n",
      "https://www.kabum.com.br/perifericos/kit-gamer\n",
      "https://www.kabum.com.br/perifericos/mesa-digitalizadora\n",
      "https://www.kabum.com.br/perifericos/bolsas\n",
      "https://www.kabum.com.br/perifericos/-mouse-gamer\n",
      "https://www.kabum.com.br/perifericos/pen-drive\n",
      "https://www.kabum.com.br/perifericos/som-acessorios\n",
      "https://www.kabum.com.br/perifericos/streamer\n",
      "https://www.kabum.com.br/perifericos/suportes\n",
      "https://www.kabum.com.br/perifericos/teclado-mouse\n",
      "https://www.kabum.com.br/perifericos/teclado-gamer\n",
      "https://www.kabum.com.br/perifericos/video-conferencia\n",
      "https://www.kabum.com.br/perifericos/webcam\n",
      "https://www.kabum.com.br/cadeiras/cadeiras-gamer\n",
      "https://www.kabum.com.br/cadeiras/cadeiras-office\n",
      "https://www.kabum.com.br/gamer/e-sports\n",
      "https://www.kabum.com.br/gamer/mesa-gamer\n",
      "https://www.kabum.com.br/gamer/nintendo-switch\n",
      "https://www.kabum.com.br/gamer/pc\n",
      "https://www.kabum.com.br/gamer/playstation-4\n",
      "https://www.kabum.com.br/gamer/tectoy\n",
      "https://www.kabum.com.br/gamer/xbox-360\n",
      "https://www.kabum.com.br/gamer/xbox-one\n",
      "https://www.kabum.com.br/computadores/computadores\n",
      "https://www.kabum.com.br/computadores/computador-gamer\n",
      "https://www.kabum.com.br/computadores/impressoras\n",
      "https://www.kabum.com.br/computadores/monitores\n",
      "https://www.kabum.com.br/computadores/notebook-gamer\n",
      "https://www.kabum.com.br/computadores/notebooks-ultrabooks\n",
      "https://www.kabum.com.br/computadores/scanners\n",
      "https://www.kabum.com.br/computadores/servidores\n",
      "https://www.kabum.com.br/computadores/softwares\n",
      "https://www.kabum.com.br/computadores/tablets\n",
      "https://www.kabum.com.br/celular-telefone/celulares\n",
      "https://www.kabum.com.br/celular-telefone/smartphones\n",
      "https://www.kabum.com.br/celular-telefone/smartphones-acessorios\n",
      "https://www.kabum.com.br/celular-telefone/telefones\n",
      "https://www.kabum.com.br/tv/acessorios-para-tvs\n",
      "https://www.kabum.com.br/tv/smart-tv\n",
      "https://www.kabum.com.br/tv/tv-4k\n",
      "https://www.kabum.com.br/tv/tv-led\n",
      "https://www.kabum.com.br/tv/tv-monitor\n",
      "https://www.kabum.com.br/eletroportateis/abridor-de-vinho\n",
      "https://www.kabum.com.br/eletroportateis/acessorios-e-pecas\n",
      "https://www.kabum.com.br/eletroportateis/adega\n",
      "https://www.kabum.com.br/eletroportateis/aquecedor\n",
      "https://www.kabum.com.br/eletroportateis/ar-portatil\n",
      "https://www.kabum.com.br/eletroportateis/aspirador-de-po\n",
      "https://www.kabum.com.br/eletroportateis/aspirador-de-po-portatil\n",
      "https://www.kabum.com.br/eletroportateis/balanca\n",
      "https://www.kabum.com.br/eletroportateis/batedeira\n",
      "https://www.kabum.com.br/eletroportateis/bebedouro\n",
      "https://www.kabum.com.br/eletroportateis/beleza-e-saude\n",
      "https://www.kabum.com.br/eletroportateis/blender-shake\n",
      "https://www.kabum.com.br/eletroportateis/cafeteira\n",
      "https://www.kabum.com.br/eletroportateis/centrifuga\n",
      "https://www.kabum.com.br/eletroportateis/cervejeira\n",
      "https://www.kabum.com.br/eletroportateis/chaleira\n",
      "https://www.kabum.com.br/eletroportateis/churrasqueira\n",
      "https://www.kabum.com.br/eletroportateis/churrasqueira-eletrica\n",
      "https://www.kabum.com.br/eletroportateis/climatizador\n",
      "https://www.kabum.com.br/eletroportateis/coifa\n",
      "https://www.kabum.com.br/eletroportateis/cooktop\n",
      "https://www.kabum.com.br/eletroportateis/desumidificador\n",
      "https://www.kabum.com.br/eletroportateis/espremedor\n",
      "https://www.kabum.com.br/eletroportateis/fatiador\n",
      "https://www.kabum.com.br/eletroportateis/ferro-a-seco\n",
      "https://www.kabum.com.br/eletroportateis/ferro-a-vapor\n",
      "https://www.kabum.com.br/eletroportateis/ferro-eletrico\n",
      "https://www.kabum.com.br/eletroportateis/forno-eletrico\n",
      "https://www.kabum.com.br/eletroportateis/frigobar-\n",
      "https://www.kabum.com.br/eletroportateis/fritadeira\n",
      "https://www.kabum.com.br/eletroportateis/fritadeira-sem-oleo\n",
      "https://www.kabum.com.br/eletroportateis/grill\n",
      "https://www.kabum.com.br/eletroportateis/jarra-eletrica\n",
      "https://www.kabum.com.br/eletroportateis/kit-cozinha\n",
      "https://www.kabum.com.br/eletroportateis/lavadora\n",
      "https://www.kabum.com.br/eletroportateis/limpadora-de-pisos\n",
      "https://www.kabum.com.br/eletroportateis/liquidificador\n",
      "https://www.kabum.com.br/eletroportateis/maquina-de-algodao-doce\n",
      "https://www.kabum.com.br/eletroportateis/maquina-de-costura\n",
      "https://www.kabum.com.br/eletroportateis/maquina-de-cupcake\n",
      "https://www.kabum.com.br/eletroportateis/maquina-de-sorvete\n",
      "https://www.kabum.com.br/eletroportateis/maquina-de-waffle\n",
      "https://www.kabum.com.br/eletroportateis/microondas\n",
      "https://www.kabum.com.br/eletroportateis/mixer\n",
      "https://www.kabum.com.br/eletroportateis/moedor-de-cafe\n",
      "https://www.kabum.com.br/eletroportateis/moedor-de-carne\n",
      "https://www.kabum.com.br/eletroportateis/multiprocessador\n",
      "https://www.kabum.com.br/eletroportateis/omeleteira\n",
      "https://www.kabum.com.br/eletroportateis/panela-de-arroz\n",
      "https://www.kabum.com.br/eletroportateis/panela-de-pressao\n",
      "https://www.kabum.com.br/eletroportateis/panela-eletrica\n",
      "https://www.kabum.com.br/eletroportateis/panela-fondue-eletrica\n",
      "https://www.kabum.com.br/eletroportateis/passadeira-a-vapor\n",
      "https://www.kabum.com.br/eletroportateis/pipoqueira\n",
      "https://www.kabum.com.br/eletroportateis/processadores\n",
      "https://www.kabum.com.br/eletroportateis/sanduicheira-e-grill\n",
      "https://www.kabum.com.br/eletroportateis/seladora-a-vacuo\n",
      "https://www.kabum.com.br/eletroportateis/torradeira\n",
      "https://www.kabum.com.br/eletroportateis/tostador\n",
      "https://www.kabum.com.br/eletroportateis/vaporizador\n",
      "https://www.kabum.com.br/eletroportateis/ventilador\n",
      "https://www.kabum.com.br/audio/caixa-de-som\n",
      "https://www.kabum.com.br/audio/dvd-e-blue-ray\n",
      "https://www.kabum.com.br/audio/fone-de-ouvido\n"
     ]
    },
    {
     "name": "stdout",
     "output_type": "stream",
     "text": [
      "https://www.kabum.com.br/audio/home-theater\n",
      "https://www.kabum.com.br/audio/mini-e-micro-system\n",
      "https://www.kabum.com.br/audio/radio-portatil\n",
      "https://www.kabum.com.br/audio/soundbar\n",
      "https://www.kabum.com.br/audio/toca-discos-e-vitrolas\n",
      "https://www.kabum.com.br/conectividade/access-point\n",
      "https://www.kabum.com.br/conectividade/adaptador-usb\n",
      "https://www.kabum.com.br/conectividade/antena\n",
      "https://www.kabum.com.br/conectividade/cabos\n",
      "https://www.kabum.com.br/conectividade/conversor-de-midia\n",
      "https://www.kabum.com.br/conectividade/mini-servidor\n",
      "https://www.kabum.com.br/conectividade/modem\n",
      "https://www.kabum.com.br/conectividade/patch-panel\n",
      "https://www.kabum.com.br/conectividade/placas-de-rede\n",
      "https://www.kabum.com.br/conectividade/radio\n",
      "https://www.kabum.com.br/conectividade/repetidor\n",
      "https://www.kabum.com.br/conectividade/roteadores\n",
      "https://www.kabum.com.br/conectividade/roteadores-wired\n",
      "https://www.kabum.com.br/conectividade/switches\n",
      "https://www.kabum.com.br/conectividade/terminal-\n",
      "https://www.kabum.com.br/conectividade/transceiver\n",
      "https://www.kabum.com.br/seguranca/-kit-dvr\n",
      "https://www.kabum.com.br/seguranca/acessorio-cftv\n",
      "https://www.kabum.com.br/seguranca/acessorios-\n",
      "https://www.kabum.com.br/seguranca/alarmes\n",
      "https://www.kabum.com.br/seguranca/baba-eletronica\n",
      "https://www.kabum.com.br/seguranca/cameras\n",
      "https://www.kabum.com.br/seguranca/cofres\n",
      "https://www.kabum.com.br/seguranca/controle-de-acesso\n",
      "https://www.kabum.com.br/seguranca/dvr\n",
      "https://www.kabum.com.br/seguranca/-fechaduras\n",
      "https://www.kabum.com.br/seguranca/gravador\n",
      "https://www.kabum.com.br/seguranca/-iluminacao\n",
      "https://www.kabum.com.br/seguranca/porteiro\n",
      "https://www.kabum.com.br/beleza-saude/aparador-de-pelos\n",
      "https://www.kabum.com.br/beleza-saude/aspirador-nasal-\n",
      "https://www.kabum.com.br/beleza-saude/assento-ortopedico\n",
      "https://www.kabum.com.br/beleza-saude/balanca-eletronica\n",
      "https://www.kabum.com.br/beleza-saude/barbeador\n",
      "https://www.kabum.com.br/beleza-saude/bolsa-termica\n",
      "https://www.kabum.com.br/beleza-saude/corretor-de-postura\n",
      "https://www.kabum.com.br/beleza-saude/cortador-de-cabelos\n",
      "https://www.kabum.com.br/beleza-saude/depilador\n",
      "https://www.kabum.com.br/beleza-saude/escova-alisadora\n",
      "https://www.kabum.com.br/beleza-saude/escova-dental\n",
      "https://www.kabum.com.br/beleza-saude/escova-modeladora\n",
      "https://www.kabum.com.br/beleza-saude/escova-sonica\n",
      "https://www.kabum.com.br/beleza-saude/espelho\n",
      "https://www.kabum.com.br/beleza-saude/fita-kinesio\n",
      "https://www.kabum.com.br/beleza-saude/hidromassageador\n",
      "https://www.kabum.com.br/beleza-saude/inalador\n",
      "https://www.kabum.com.br/beleza-saude/kit-cuidados-pessoais\n",
      "https://www.kabum.com.br/beleza-saude/maquina-de-cortar-cabelo\n",
      "https://www.kabum.com.br/beleza-saude/massageador\n",
      "https://www.kabum.com.br/beleza-saude/medidor-de-pressao\n",
      "https://www.kabum.com.br/beleza-saude/modelador-de-cabelo\n",
      "https://www.kabum.com.br/beleza-saude/prancha\n",
      "https://www.kabum.com.br/beleza-saude/relogio\n",
      "https://www.kabum.com.br/beleza-saude/secador\n",
      "https://www.kabum.com.br/beleza-saude/termometro\n",
      "https://www.kabum.com.br/beleza-saude/umidificadores\n",
      "https://www.kabum.com.br/cameras-digitais/acessorios\n",
      "https://www.kabum.com.br/cameras-digitais/bastao-de-selfie\n",
      "https://www.kabum.com.br/cameras-digitais/camera-de-aventura\n",
      "https://www.kabum.com.br/cameras-digitais/camera-instantanea\n",
      "https://www.kabum.com.br/cameras-digitais/cameras-digitais\n",
      "https://www.kabum.com.br/cameras-digitais/cartoes-de-memoria\n",
      "https://www.kabum.com.br/cameras-digitais/drones\n",
      "https://www.kabum.com.br/cameras-digitais/linha-profissional\n",
      "https://www.kabum.com.br/cameras-digitais/monope\n",
      "https://www.kabum.com.br/cameras-digitais/tripes\n",
      "https://www.kabum.com.br/automacao/combo\n",
      "https://www.kabum.com.br/automacao/contador-de-cedulas\n",
      "https://www.kabum.com.br/automacao/gavetas\n",
      "https://www.kabum.com.br/automacao/impressora\n",
      "https://www.kabum.com.br/automacao/leitores\n",
      "https://www.kabum.com.br/automacao/microterminal\n",
      "https://www.kabum.com.br/automacao/monitor\n",
      "https://www.kabum.com.br/automacao/porta-cedulas\n",
      "https://www.kabum.com.br/automacao/relogio-de-ponto\n",
      "https://www.kabum.com.br/automacao/rotulador\n",
      "https://www.kabum.com.br/automacao/sat-fiscal\n",
      "https://www.kabum.com.br/automacao/separador-e-contador-de-moedas\n",
      "https://www.kabum.com.br/automacao/terminais\n",
      "https://www.kabum.com.br/projetores/acessorios-para-projecao\n",
      "https://www.kabum.com.br/projetores/projetor\n",
      "https://www.kabum.com.br/ferramentas/acessorios\n",
      "https://www.kabum.com.br/ferramentas/eletricas\n",
      "https://www.kabum.com.br/instrumento-musical/bateria-e-percussao\n",
      "https://www.kabum.com.br/instrumento-musical/instrumentos-de-cordas\n",
      "https://www.kabum.com.br/instrumento-musical/pro-audio\n",
      "https://www.kabum.com.br/smart-home/assistente-virtual\n",
      "https://www.kabum.com.br/smart-home/cameras\n",
      "https://www.kabum.com.br/smart-home/campainha\n",
      "https://www.kabum.com.br/smart-home/controle-smart\n",
      "https://www.kabum.com.br/smart-home/interruptor\n",
      "https://www.kabum.com.br/smart-home/kits\n",
      "https://www.kabum.com.br/smart-home/lampada-led\n",
      "https://www.kabum.com.br/smart-home/plugs\n",
      "https://www.kabum.com.br/smart-home/sensor\n",
      "https://www.kabum.com.br/geek/colecionaveis\n",
      "https://www.kabum.com.br/geek/luminarias\n",
      "https://www.kabum.com.br/casa-jardim/bomba-submersiva\n",
      "https://www.kabum.com.br/casa-jardim/lavadora-de-alta-pressao\n",
      "https://www.kabum.com.br/casa-jardim/varredeira\n",
      "https://www.kabum.com.br/casa-jardim/vassoura-eletrica\n",
      "https://www.kabum.com.br/eletronicos/calculadoras\n",
      "https://www.kabum.com.br/eletronicos/walk-talk\n",
      "https://www.kabum.com.br/automotivo/acessorios-exterior\n",
      "https://www.kabum.com.br/automotivo/cd-mp3-player\n",
      "https://www.kabum.com.br/automotivo/ferramenta\n",
      "https://www.kabum.com.br/brinquedos/drone-\n",
      "https://www.kabum.com.br/brinquedos/personagens\n",
      "https://www.kabum.com.br/presentes/escritorio\n",
      "https://www.kabum.com.br/relogios/masculino\n",
      "https://www.kabum.com.br/esporte-e-lazer/bicicleta\n",
      "https://www.siteblindado.com/consumidor/selo-blindado/?language1=pt&hostname=www.kabum.com.br\n",
      "https://www.kabum.com.br/hotsite/homeoffice/?int_banner_name=hotsite-homeoffice&int_banner_position=kbar1\n",
      "http://www.ebit.com.br/kabum\n",
      "https://www.kabum.com.br/ofertas/ofertadodia?int_banner_name=ofertadodia&int_banner_position=kbar2\n",
      "https://www.kabum.com.br/cgi-local/site/tools/banner.cgi?W=Bx360&int_banner_name=KBAR%20PADRAO%20-%20HUSKY&int_banner_position=kbar\n",
      "https://www.kabum.com.br/cgi-local/site/produtos/descricao_ofertas.cgi?codigo=98765\n",
      "https://www.kabum.com.br/cgi-local/site/produtos/descricao_ofertas.cgi?codigo=98765\n",
      "https://www.kabum.com.br/cgi-local/site/produtos/descricao_ofertas.cgi?codigo=102746\n",
      "https://www.kabum.com.br/cgi-local/site/produtos/descricao_ofertas.cgi?codigo=102746\n",
      "https://www.kabum.com.br/cgi-local/site/produtos/descricao_ofertas.cgi?codigo=113816\n",
      "https://www.kabum.com.br/cgi-local/site/produtos/descricao_ofertas.cgi?codigo=113816\n",
      "https://www.kabum.com.br/ofertas/diadospais\n",
      "https://www.kabum.com.br/produto/114384/console-sony-playstation-4-mega-pack-12-1tb-gran-\n",
      "https://www.kabum.com.br/produto/114384/console-sony-playstation-4-mega-pack-12-1tb-gran-\n",
      "https://www.kabum.com.br/produto/114384/console-sony-playstation-4-mega-pack-12-1tb-gran-\n",
      "https://www.kabum.com.br/produto/114384/console-sony-playstation-4-mega-pack-12-1tb-gran-\n",
      "https://www.kabum.com.br/cgi-local/site/listagem/listagem.cgi?dep=&sec=&cat=&sub=&pagina=1&ordem=6&limite=50\n",
      "https://www.kabum.com.br/produto/107345/smartphone-samsung-galaxy-a20s-32gb-13mp-tela-6-\n",
      "https://www.kabum.com.br/produto/107345/smartphone-samsung-galaxy-a20s-32gb-13mp-tela-6-\n",
      "https://www.kabum.com.br/produto/107345/smartphone-samsung-galaxy-a20s-32gb-13mp-tela-6-\n",
      "https://www.kabum.com.br/produto/107345/smartphone-samsung-galaxy-a20s-32gb-13mp-tela-6-\n",
      "https://www.kabum.com.br/cgi-local/site/listagem/listagem.cgi?dep=&sec=&cat=&sub=&pagina=1&ordem=6&limite=50\n",
      "https://www.kabum.com.br/produto/111540/notebook-asus-amd-ryzen-5-3500u-vega-8-8gb-1tb-\n",
      "https://www.kabum.com.br/produto/111540/notebook-asus-amd-ryzen-5-3500u-vega-8-8gb-1tb-\n",
      "https://www.kabum.com.br/produto/111540/notebook-asus-amd-ryzen-5-3500u-vega-8-8gb-1tb-\n",
      "https://www.kabum.com.br/produto/111540/notebook-asus-amd-ryzen-5-3500u-vega-8-8gb-1tb-\n",
      "https://www.kabum.com.br/cgi-local/site/listagem/listagem.cgi?dep=&sec=&cat=&sub=&pagina=1&ordem=6&limite=50\n",
      "https://www.kabum.com.br/produto/109805/placa-de-video-gigabyte-nvidia-geforce-rtx-2060-oc-\n",
      "https://www.kabum.com.br/produto/109805/placa-de-video-gigabyte-nvidia-geforce-rtx-2060-oc-\n",
      "https://www.kabum.com.br/produto/109805/placa-de-video-gigabyte-nvidia-geforce-rtx-2060-oc-\n",
      "https://www.kabum.com.br/produto/109805/placa-de-video-gigabyte-nvidia-geforce-rtx-2060-oc-\n",
      "https://www.kabum.com.br/cgi-local/site/listagem/listagem.cgi?dep=&sec=&cat=&sub=&pagina=1&ordem=6&limite=50\n",
      "https://www.kabum.com.br/produto/100938/cadeira-gamer-corsair-t2-road-warrior-preto-cf-\n",
      "https://www.kabum.com.br/produto/100938/cadeira-gamer-corsair-t2-road-warrior-preto-cf-\n",
      "https://www.kabum.com.br/produto/100938/cadeira-gamer-corsair-t2-road-warrior-preto-cf-\n",
      "https://www.kabum.com.br/produto/100938/cadeira-gamer-corsair-t2-road-warrior-preto-cf-\n",
      "https://www.kabum.com.br/cgi-local/site/listagem/listagem.cgi?dep=&sec=&cat=&sub=&pagina=1&ordem=6&limite=50\n",
      "https://www.kabum.com.br/produto/114278/smart-tv-32-samsung-2-hdmi-1-usb-wi-fi-lh32b-\n",
      "https://www.kabum.com.br/produto/114278/smart-tv-32-samsung-2-hdmi-1-usb-wi-fi-lh32b-\n",
      "https://www.kabum.com.br/produto/114278/smart-tv-32-samsung-2-hdmi-1-usb-wi-fi-lh32b-\n",
      "https://www.kabum.com.br/produto/114278/smart-tv-32-samsung-2-hdmi-1-usb-wi-fi-lh32b-\n",
      "https://www.kabum.com.br/cgi-local/site/listagem/listagem.cgi?dep=&sec=&cat=&sub=&pagina=1&ordem=6&limite=50\n",
      "https://www.kabum.com.br/cgi-local/site/tools/banner.cgi?W=Bx382&int_banner_name=SPLASHLINE%20WARRIOR%20DIA%20DOS%20PAIS&int_banner_position=splash_linha1\n",
      "https://www.kabum.com.br/produto/108078/google-nest-mini-preto-ga00781-br\n",
      "https://www.kabum.com.br/produto/108078/google-nest-mini-preto-ga00781-br\n",
      "https://www.kabum.com.br/produto/108078/google-nest-mini-preto-ga00781-br\n",
      "https://www.kabum.com.br/produto/108078/google-nest-mini-preto-ga00781-br\n",
      "https://www.kabum.com.br/cgi-local/site/listagem/listagem.cgi?dep=&sec=&cat=&sub=&pagina=1&ordem=6&limite=50\n",
      "https://www.kabum.com.br/produto/107545/processador-amd-ryzen-5-1600-cache-19mb-3-2ghz-\n",
      "https://www.kabum.com.br/produto/107545/processador-amd-ryzen-5-1600-cache-19mb-3-2ghz-\n",
      "https://www.kabum.com.br/produto/107545/processador-amd-ryzen-5-1600-cache-19mb-3-2ghz-\n",
      "https://www.kabum.com.br/produto/107545/processador-amd-ryzen-5-1600-cache-19mb-3-2ghz-\n",
      "https://www.kabum.com.br/cgi-local/site/listagem/listagem.cgi?dep=&sec=&cat=&sub=&pagina=1&ordem=6&limite=50\n",
      "https://www.kabum.com.br/produto/112981/kit-gamer-logitech-g-gear-up-mouse-g203-rgb-mo-\n",
      "https://www.kabum.com.br/produto/112981/kit-gamer-logitech-g-gear-up-mouse-g203-rgb-mo-\n",
      "https://www.kabum.com.br/produto/112981/kit-gamer-logitech-g-gear-up-mouse-g203-rgb-mo-\n",
      "https://www.kabum.com.br/produto/112981/kit-gamer-logitech-g-gear-up-mouse-g203-rgb-mo-\n",
      "https://www.kabum.com.br/cgi-local/site/listagem/listagem.cgi?dep=&sec=&cat=&sub=&pagina=1&ordem=6&limite=50\n",
      "https://www.kabum.com.br/produto/113298/console-xbox-one-s-1tb-branco-star-wars-jedi-fa-\n",
      "https://www.kabum.com.br/produto/113298/console-xbox-one-s-1tb-branco-star-wars-jedi-fa-\n",
      "https://www.kabum.com.br/produto/113298/console-xbox-one-s-1tb-branco-star-wars-jedi-fa-\n",
      "https://www.kabum.com.br/produto/113298/console-xbox-one-s-1tb-branco-star-wars-jedi-fa-\n",
      "https://www.kabum.com.br/cgi-local/site/listagem/listagem.cgi?dep=&sec=&cat=&sub=&pagina=1&ordem=6&limite=50\n",
      "https://www.kabum.com.br/produto/93434/mesa-digitalizadora-one-by-wacom-ctl472-pequena\n",
      "https://www.kabum.com.br/produto/93434/mesa-digitalizadora-one-by-wacom-ctl472-pequena\n",
      "https://www.kabum.com.br/produto/93434/mesa-digitalizadora-one-by-wacom-ctl472-pequena\n",
      "https://www.kabum.com.br/produto/93434/mesa-digitalizadora-one-by-wacom-ctl472-pequena\n",
      "https://www.kabum.com.br/cgi-local/site/listagem/listagem.cgi?dep=&sec=&cat=&sub=&pagina=1&ordem=6&limite=50\n",
      "https://www.kabum.com.br/produto/94555/mouse-gamer-redragon-10000dpi-chroma-cobra-m711\n",
      "https://www.kabum.com.br/produto/94555/mouse-gamer-redragon-10000dpi-chroma-cobra-m711\n",
      "https://www.kabum.com.br/produto/94555/mouse-gamer-redragon-10000dpi-chroma-cobra-m711\n",
      "https://www.kabum.com.br/produto/94555/mouse-gamer-redragon-10000dpi-chroma-cobra-m711\n",
      "https://www.kabum.com.br/cgi-local/site/listagem/listagem.cgi?dep=&sec=&cat=&sub=&pagina=1&ordem=6&limite=50\n",
      "https://www.kabum.com.br/cgi-local/site/tools/banner.cgi?W=Bx374&int_banner_name=SEJA_PRIME_PRIMEOFF&int_banner_position=splash_linha2\n",
      "https://www.kabum.com.br/produto/103769/headphone-bluetooth-geonav-aerurban-recarregavel-\n",
      "https://www.kabum.com.br/produto/103769/headphone-bluetooth-geonav-aerurban-recarregavel-\n",
      "https://www.kabum.com.br/produto/103769/headphone-bluetooth-geonav-aerurban-recarregavel-\n",
      "https://www.kabum.com.br/produto/103769/headphone-bluetooth-geonav-aerurban-recarregavel-\n",
      "https://www.kabum.com.br/cgi-local/site/listagem/listagem.cgi?dep=&sec=&cat=&sub=&pagina=1&ordem=6&limite=50\n",
      "https://www.kabum.com.br/produto/94709/placa-mae-gigabyte-ga-a320m-s2h-amd-am4-matx-dd-\n",
      "https://www.kabum.com.br/produto/94709/placa-mae-gigabyte-ga-a320m-s2h-amd-am4-matx-dd-\n",
      "https://www.kabum.com.br/produto/94709/placa-mae-gigabyte-ga-a320m-s2h-amd-am4-matx-dd-\n",
      "https://www.kabum.com.br/produto/94709/placa-mae-gigabyte-ga-a320m-s2h-amd-am4-matx-dd-\n",
      "https://www.kabum.com.br/cgi-local/site/listagem/listagem.cgi?dep=&sec=&cat=&sub=&pagina=1&ordem=6&limite=50\n",
      "https://www.kabum.com.br/produto/102358/monitor-lg-led-29-ultrawide-ips-hdmi-freesync-\n",
      "https://www.kabum.com.br/produto/102358/monitor-lg-led-29-ultrawide-ips-hdmi-freesync-\n",
      "https://www.kabum.com.br/produto/102358/monitor-lg-led-29-ultrawide-ips-hdmi-freesync-\n",
      "https://www.kabum.com.br/produto/102358/monitor-lg-led-29-ultrawide-ips-hdmi-freesync-\n",
      "https://www.kabum.com.br/cgi-local/site/listagem/listagem.cgi?dep=&sec=&cat=&sub=&pagina=1&ordem=6&limite=50\n",
      "https://www.kabum.com.br/produto/105042/smartphone-asus-zenfone-6-128gb-48mp-tela-6-4-\n",
      "https://www.kabum.com.br/produto/105042/smartphone-asus-zenfone-6-128gb-48mp-tela-6-4-\n",
      "https://www.kabum.com.br/produto/105042/smartphone-asus-zenfone-6-128gb-48mp-tela-6-4-\n",
      "https://www.kabum.com.br/produto/105042/smartphone-asus-zenfone-6-128gb-48mp-tela-6-4-\n",
      "https://www.kabum.com.br/cgi-local/site/listagem/listagem.cgi?dep=&sec=&cat=&sub=&pagina=1&ordem=6&limite=50\n",
      "https://www.kabum.com.br/produto/84471/memoria-corsair-vengeance-lpx-8gb-2400mhz-ddr4-\n",
      "https://www.kabum.com.br/produto/84471/memoria-corsair-vengeance-lpx-8gb-2400mhz-ddr4-\n",
      "https://www.kabum.com.br/produto/84471/memoria-corsair-vengeance-lpx-8gb-2400mhz-ddr4-\n",
      "https://www.kabum.com.br/produto/84471/memoria-corsair-vengeance-lpx-8gb-2400mhz-ddr4-\n",
      "https://www.kabum.com.br/cgi-local/site/listagem/listagem.cgi?dep=&sec=&cat=&sub=&pagina=1&ordem=6&limite=50\n",
      "https://www.kabum.com.br/produto/100028/gabinete-gamer-corsair-carbide-series-spec-omega-\n",
      "https://www.kabum.com.br/produto/100028/gabinete-gamer-corsair-carbide-series-spec-omega-\n",
      "https://www.kabum.com.br/produto/100028/gabinete-gamer-corsair-carbide-series-spec-omega-\n",
      "https://www.kabum.com.br/produto/100028/gabinete-gamer-corsair-carbide-series-spec-omega-\n",
      "https://www.kabum.com.br/cgi-local/site/listagem/listagem.cgi?dep=&sec=&cat=&sub=&pagina=1&ordem=6&limite=50\n",
      "https://www.kabum.com.br/cgi-local/site/tools/banner.cgi?W=Bx361&int_banner_name=MONITORES%20-%20GERAL&int_banner_position=splash_linha3\n",
      "https://www.kabum.com.br/produto/103411/placa-mae-gigabyte-b365m-ds3h-intel-lga-1151-mat-\n",
      "https://www.kabum.com.br/produto/103411/placa-mae-gigabyte-b365m-ds3h-intel-lga-1151-mat-\n",
      "https://www.kabum.com.br/produto/103411/placa-mae-gigabyte-b365m-ds3h-intel-lga-1151-mat-\n",
      "https://www.kabum.com.br/produto/103411/placa-mae-gigabyte-b365m-ds3h-intel-lga-1151-mat-\n",
      "https://www.kabum.com.br/cgi-local/site/listagem/listagem.cgi?dep=&sec=&cat=&sub=&pagina=1&ordem=6&limite=50\n",
      "https://www.kabum.com.br/produto/108120/tablet-samsung-galaxy-tab-a-4g-bluetooth-androi-\n",
      "https://www.kabum.com.br/produto/108120/tablet-samsung-galaxy-tab-a-4g-bluetooth-androi-\n",
      "https://www.kabum.com.br/produto/108120/tablet-samsung-galaxy-tab-a-4g-bluetooth-androi-\n",
      "https://www.kabum.com.br/produto/108120/tablet-samsung-galaxy-tab-a-4g-bluetooth-androi-\n",
      "https://www.kabum.com.br/cgi-local/site/listagem/listagem.cgi?dep=&sec=&cat=&sub=&pagina=1&ordem=6&limite=50\n",
      "https://www.kabum.com.br/produto/97700/mouse-gamer-hyperx-pulsefire-fps-pro-rgb-16000dpi-\n",
      "https://www.kabum.com.br/produto/97700/mouse-gamer-hyperx-pulsefire-fps-pro-rgb-16000dpi-\n",
      "https://www.kabum.com.br/produto/97700/mouse-gamer-hyperx-pulsefire-fps-pro-rgb-16000dpi-\n",
      "https://www.kabum.com.br/produto/97700/mouse-gamer-hyperx-pulsefire-fps-pro-rgb-16000dpi-\n",
      "https://www.kabum.com.br/cgi-local/site/listagem/listagem.cgi?dep=&sec=&cat=&sub=&pagina=1&ordem=6&limite=50\n",
      "https://www.kabum.com.br/produto/104719/iphone-11-pro-prata-512gb-mwce2\n",
      "https://www.kabum.com.br/produto/104719/iphone-11-pro-prata-512gb-mwce2\n"
     ]
    },
    {
     "name": "stdout",
     "output_type": "stream",
     "text": [
      "https://www.kabum.com.br/produto/104719/iphone-11-pro-prata-512gb-mwce2\n",
      "https://www.kabum.com.br/produto/104719/iphone-11-pro-prata-512gb-mwce2\n",
      "https://www.kabum.com.br/cgi-local/site/listagem/listagem.cgi?dep=&sec=&cat=&sub=&pagina=1&ordem=6&limite=50\n",
      "https://www.kabum.com.br/produto/103225/volante-warrior-artaxes-ps4-xbox-one-pc-switch-\n",
      "https://www.kabum.com.br/produto/103225/volante-warrior-artaxes-ps4-xbox-one-pc-switch-\n",
      "https://www.kabum.com.br/produto/103225/volante-warrior-artaxes-ps4-xbox-one-pc-switch-\n",
      "https://www.kabum.com.br/produto/103225/volante-warrior-artaxes-ps4-xbox-one-pc-switch-\n",
      "https://www.kabum.com.br/cgi-local/site/listagem/listagem.cgi?dep=&sec=&cat=&sub=&pagina=1&ordem=6&limite=50\n",
      "https://www.kabum.com.br/produto/111161/monitor-gamer-aoc-hero-w-led-27-widescreen-fhd-\n",
      "https://www.kabum.com.br/produto/111161/monitor-gamer-aoc-hero-w-led-27-widescreen-fhd-\n",
      "https://www.kabum.com.br/produto/111161/monitor-gamer-aoc-hero-w-led-27-widescreen-fhd-\n",
      "https://www.kabum.com.br/produto/111161/monitor-gamer-aoc-hero-w-led-27-widescreen-fhd-\n",
      "https://www.kabum.com.br/cgi-local/site/listagem/listagem.cgi?dep=&sec=&cat=&sub=&pagina=1&ordem=6&limite=50\n",
      "https://www.kabum.com.br/cgi-local/site/tools/banner.cgi?W=Bx380&int_banner_name=SPLASHLINE%20PS5&int_banner_position=splash_linha4\n",
      "https://www.kabum.com.br/produto/110342/placa-de-video-asus-arez-dual-amd-radeon-rx-580-oc-\n",
      "https://www.kabum.com.br/produto/110342/placa-de-video-asus-arez-dual-amd-radeon-rx-580-oc-\n",
      "https://www.kabum.com.br/produto/110342/placa-de-video-asus-arez-dual-amd-radeon-rx-580-oc-\n",
      "https://www.kabum.com.br/produto/110342/placa-de-video-asus-arez-dual-amd-radeon-rx-580-oc-\n",
      "https://www.kabum.com.br/cgi-local/site/listagem/listagem.cgi?dep=&sec=&cat=&sub=&pagina=1&ordem=6&limite=50\n",
      "https://www.kabum.com.br/produto/95557/processador-amd-ryzen-5-2600-cooler-wraith-stealt-\n",
      "https://www.kabum.com.br/produto/95557/processador-amd-ryzen-5-2600-cooler-wraith-stealt-\n",
      "https://www.kabum.com.br/produto/95557/processador-amd-ryzen-5-2600-cooler-wraith-stealt-\n",
      "https://www.kabum.com.br/produto/95557/processador-amd-ryzen-5-2600-cooler-wraith-stealt-\n",
      "https://www.kabum.com.br/cgi-local/site/listagem/listagem.cgi?dep=&sec=&cat=&sub=&pagina=1&ordem=6&limite=50\n",
      "https://www.kabum.com.br/produto/98545/ssd-crucial-bx500-480gb-sata-leitura-540mb-s-g-\n",
      "https://www.kabum.com.br/produto/98545/ssd-crucial-bx500-480gb-sata-leitura-540mb-s-g-\n",
      "https://www.kabum.com.br/produto/98545/ssd-crucial-bx500-480gb-sata-leitura-540mb-s-g-\n",
      "https://www.kabum.com.br/produto/98545/ssd-crucial-bx500-480gb-sata-leitura-540mb-s-g-\n",
      "https://www.kabum.com.br/cgi-local/site/listagem/listagem.cgi?dep=&sec=&cat=&sub=&pagina=1&ordem=6&limite=50\n",
      "https://www.kabum.com.br/produto/99947/smart-tv-led-55-uhd-4k-samsung-3-hdmi-2-usb-wi-\n",
      "https://www.kabum.com.br/produto/99947/smart-tv-led-55-uhd-4k-samsung-3-hdmi-2-usb-wi-\n",
      "https://www.kabum.com.br/produto/99947/smart-tv-led-55-uhd-4k-samsung-3-hdmi-2-usb-wi-\n",
      "https://www.kabum.com.br/produto/99947/smart-tv-led-55-uhd-4k-samsung-3-hdmi-2-usb-wi-\n",
      "https://www.kabum.com.br/cgi-local/site/listagem/listagem.cgi?dep=&sec=&cat=&sub=&pagina=1&ordem=6&limite=50\n",
      "https://www.kabum.com.br/produto/63196/headset-gamer-hyperx-cloud-ii-7-1-khx-hscp-gm-\n",
      "https://www.kabum.com.br/produto/63196/headset-gamer-hyperx-cloud-ii-7-1-khx-hscp-gm-\n",
      "https://www.kabum.com.br/produto/63196/headset-gamer-hyperx-cloud-ii-7-1-khx-hscp-gm-\n",
      "https://www.kabum.com.br/produto/63196/headset-gamer-hyperx-cloud-ii-7-1-khx-hscp-gm-\n",
      "https://www.kabum.com.br/cgi-local/site/listagem/listagem.cgi?dep=&sec=&cat=&sub=&pagina=1&ordem=6&limite=50\n",
      "https://www.kabum.com.br/produto/113117/iphone-se-preto-128gb-mxd02\n",
      "https://www.kabum.com.br/produto/113117/iphone-se-preto-128gb-mxd02\n",
      "https://www.kabum.com.br/produto/113117/iphone-se-preto-128gb-mxd02\n",
      "https://www.kabum.com.br/produto/113117/iphone-se-preto-128gb-mxd02\n",
      "https://www.kabum.com.br/cgi-local/site/listagem/listagem.cgi?dep=&sec=&cat=&sub=&pagina=1&ordem=6&limite=50\n",
      "https://www.kabum.com.br/cgi-local/site/tools/banner.cgi?W=Bx377&int_banner_name=Nvidia%20Brand%20Store&int_banner_position=splash_linha5\n",
      "https://www.kabum.com.br/produto/114692/ipad-pro-apple-tela-11-256gb-celular-cinza-e-\n",
      "https://www.kabum.com.br/produto/114692/ipad-pro-apple-tela-11-256gb-celular-cinza-e-\n",
      "https://www.kabum.com.br/produto/114692/ipad-pro-apple-tela-11-256gb-celular-cinza-e-\n",
      "https://www.kabum.com.br/produto/114692/ipad-pro-apple-tela-11-256gb-celular-cinza-e-\n",
      "https://www.kabum.com.br/cgi-local/site/listagem/listagem.cgi?dep=&sec=&cat=&sub=&pagina=1&ordem=6&limite=50\n",
      "https://www.kabum.com.br/produto/103604/notebook-lenovo-ultrafino-ideapad-s145-intel-core-\n",
      "https://www.kabum.com.br/produto/103604/notebook-lenovo-ultrafino-ideapad-s145-intel-core-\n",
      "https://www.kabum.com.br/produto/103604/notebook-lenovo-ultrafino-ideapad-s145-intel-core-\n",
      "https://www.kabum.com.br/produto/103604/notebook-lenovo-ultrafino-ideapad-s145-intel-core-\n",
      "https://www.kabum.com.br/cgi-local/site/listagem/listagem.cgi?dep=&sec=&cat=&sub=&pagina=1&ordem=6&limite=50\n",
      "https://www.kabum.com.br/produto/98517/monitor-aoc-led-21-5-widescreen-full-hd-hdmi-vg-\n",
      "https://www.kabum.com.br/produto/98517/monitor-aoc-led-21-5-widescreen-full-hd-hdmi-vg-\n",
      "https://www.kabum.com.br/produto/98517/monitor-aoc-led-21-5-widescreen-full-hd-hdmi-vg-\n",
      "https://www.kabum.com.br/produto/98517/monitor-aoc-led-21-5-widescreen-full-hd-hdmi-vg-\n",
      "https://www.kabum.com.br/cgi-local/site/listagem/listagem.cgi?dep=&sec=&cat=&sub=&pagina=1&ordem=6&limite=50\n",
      "https://www.kabum.com.br/produto/114576/tela-verde-husky-green-studio-retratil-htv-gsr\n",
      "https://www.kabum.com.br/produto/114576/tela-verde-husky-green-studio-retratil-htv-gsr\n",
      "https://www.kabum.com.br/produto/113098/placa-mae-msi-mag-z490-tomahawk-intel-lga-1200-atx-ddr4\n",
      "https://www.kabum.com.br/produto/113098/placa-mae-msi-mag-z490-tomahawk-intel-lga-1200-atx-ddr4\n",
      "https://www.kabum.com.br/produto/114332/placa-mae-msi-b365m-pro-vh-intel-lga-1151-matx\n",
      "https://www.kabum.com.br/produto/114332/placa-mae-msi-b365m-pro-vh-intel-lga-1151-matx\n",
      "https://www.kabum.com.br/produto/113008/monitor-gamer-asus-tuf-gaming-27-full-hd-ips-hdmi-displayport-g-sync-280hz-1ms-altura-ajustavel-vg279qm\n",
      "https://www.kabum.com.br/produto/113008/monitor-gamer-asus-tuf-gaming-27-full-hd-ips-hdmi-displayport-g-sync-280hz-1ms-altura-ajustavel-vg279qm\n",
      "https://www.kabum.com.br/produto/115236/smartphone-nokia-2-3-cinza-32gb-13mp-tela-6-2-\n",
      "https://www.kabum.com.br/produto/115236/smartphone-nokia-2-3-cinza-32gb-13mp-tela-6-2-\n",
      "https://www.kabum.com.br/#\n",
      "https://www.compreconfie.com.br/103388\n",
      "https://www.siteblindado.com/consumidor/selo-blindado/?language1=pt&hostname=www.kabum.com.br\n",
      "https://transparencyreport.google.com/safe-browsing/search?url=kabum.com.br&hl=pt-PT\n",
      "https://www.reclameaqui.com.br/empresa/kabum/?utm_source=referral&utm_medium=embbed&utm_campaign=reputacao&utm_term=horizontal\n",
      "https://www.kabum.com.br/audio/toca-discos-e-vitrolas\n",
      "https://www.kabum.com.br/automacao/microterminal\n",
      "https://www.kabum.com.br/automotivo/cd-mp3-player\n",
      "https://www.kabum.com.br/beleza-saude/aparador-de-pelos\n",
      "https://www.kabum.com.br/brinquedos/personagens\n",
      "https://www.kabum.com.br/cadeiras/cadeiras-gamer\n",
      "https://www.kabum.com.br/cameras-digitais/cameras-digitais\n",
      "https://www.kabum.com.br/casa-jardim/lavadora-de-alta-pressao\n",
      "https://www.kabum.com.br/celular-telefone/smartphones\n",
      "https://www.kabum.com.br/computadores/computadores\n",
      "https://www.kabum.com.br/conectividade/access-point\n",
      "https://www.kabum.com.br/eletronicos/calculadoras\n",
      "https://www.kabum.com.br/eletroportateis/aquecedor\n",
      "https://www.kabum.com.br/esporte-e-lazer/bicicleta\n",
      "https://www.kabum.com.br/ferramentas/eletricas\n",
      "https://www.kabum.com.br/gamer/playstation-4\n",
      "https://www.kabum.com.br/geek/colecionaveis\n",
      "https://www.kabum.com.br/hardware/controladoras\n",
      "https://www.kabum.com.br/instrumento-musical/instrumentos-de-cordas\n",
      "https://www.kabum.com.br/perifericos/acessorios\n",
      "https://www.kabum.com.br/cgi-local/site/minha_conta/minha_conta.cgi?link=08\n",
      "https://www.kabum.com.br/cgi-local/site/minha_conta/minha_conta.cgi?link=12\n",
      "https://www.kabum.com.br/cgi-local/site/minha_conta/minha_conta.cgi?link=05\n",
      "https://www.kabum.com.br/cgi-local/site/faq/faq.cgi\n",
      "https://www.kabum.com.br/cgi-local/site/compra_segura/compra_segura.cgi\n",
      "https://www.kabum.com.br/cgi-local/site/institucional/sobre.cgi\n",
      "https://www.kabum.com.br/cgi-local/site/institucional/politicas.cgi\n",
      "https://www.kabum.com.br/cgi-local/site/institucional/politica_marketplace.cgi\n",
      "https://www.kabum.com.br/cgi-local/site/institucional/politica_privacidade.cgi\n",
      "https://www.kabum.com.br/cgi-local/site/institucional/sobre.cgi?ancora=premios\n",
      "https://jobs.kenoby.com/kabum\n"
     ]
    },
    {
     "name": "stdout",
     "output_type": "stream",
     "text": [
      "https://www.kabum.com.br/download/cdc/CODIGO_DE_DEFESA_DO_CONSUMIDOR.zip\n",
      "https://www.kabum.com.br/hotsite/blackfriday/\n",
      "mailto:faleconosco@kabum.com.br\n",
      "https://www.kabum.com.br/cgi-local/site/institucional/politicas.cgi\n"
     ]
    }
   ],
   "source": [
    "from selenium import webdriver\n",
    "\n",
    "driver = webdriver.Chrome()\n",
    "driver.implicitly_wait(10) # seconds\n",
    "driver.get('http://www.kabum.com.br')\n",
    "links = driver.find_elements_by_tag_name('a')\n",
    "for link in links:\n",
    "    print(link.get_attribute('href'))"
   ]
  },
  {
   "cell_type": "markdown",
   "metadata": {},
   "source": [
    "# Úteis:"
   ]
  },
  {
   "cell_type": "code",
   "execution_count": null,
   "metadata": {},
   "outputs": [],
   "source": [
    "#Tirar Screenshot de um website via Selenium"
   ]
  },
  {
   "cell_type": "code",
   "execution_count": 32,
   "metadata": {},
   "outputs": [],
   "source": [
    "from selenium import webdriver\n",
    "\n",
    "driver = webdriver.Chrome()\n",
    "driver.get('http://www.python.org/')\n",
    "driver.save_screenshot('screenshot.png')\n",
    "driver.quit()"
   ]
  },
  {
   "cell_type": "code",
   "execution_count": null,
   "metadata": {},
   "outputs": [],
   "source": []
  },
  {
   "cell_type": "markdown",
   "metadata": {},
   "source": [
    "#Método execute_script\n",
    "\n",
    "Permite executar scripts de Javascript diretamente pelo Webdriver p/ o Website.\n",
    "Exemplo abaixo executa um script que faz o Webdriver correr todo o documento HTML para baixo (Scroll Down)"
   ]
  },
  {
   "cell_type": "code",
   "execution_count": null,
   "metadata": {},
   "outputs": [],
   "source": [
    "driver.execute_script(\"window.scrollTo(0, document.body.scrollHeight);\")"
   ]
  },
  {
   "cell_type": "code",
   "execution_count": null,
   "metadata": {},
   "outputs": [],
   "source": [
    "#ScrollDown em páginas que sempre carregam novo conteúdo a partir de Scroll Down"
   ]
  },
  {
   "cell_type": "code",
   "execution_count": 177,
   "metadata": {},
   "outputs": [],
   "source": [
    "driver = webdriver.Chrome()\n",
    "driver.get(\"https://news.google.com/\")\n",
    "\n",
    "\n",
    "for i in range(0,4):\n",
    "    # Scroll down \n",
    "    driver.execute_script(\"window.scrollTo(0,document.body.scrollHeight);\")\n",
    "\n",
    "    time.sleep(4)\n",
    "    \n",
    "\n",
    "   "
   ]
  },
  {
   "cell_type": "code",
   "execution_count": null,
   "metadata": {},
   "outputs": [],
   "source": []
  },
  {
   "cell_type": "code",
   "execution_count": null,
   "metadata": {},
   "outputs": [],
   "source": [
    "#Não quero mais ver as abas do navegador abrindo a cada requisição enviada!"
   ]
  },
  {
   "cell_type": "code",
   "execution_count": 89,
   "metadata": {},
   "outputs": [
    {
     "name": "stdout",
     "output_type": "stream",
     "text": [
      "# Python 3: Fibonacci series up to n\n",
      ">>> def fib(n):\n",
      ">>>     a, b = 0, 1\n",
      ">>>     while a < n:\n",
      ">>>         print(a, end=' ')\n",
      ">>>         a, b = b, a+b\n",
      ">>>     print()\n",
      ">>> fib(1000)\n",
      "0 1 1 2 3 5 8 13 21 34 55 89 144 233 377 610 987\n",
      "\n",
      "\n",
      "\n",
      "\n",
      "\n",
      "\n",
      "\n",
      "\n",
      "\n",
      "\n",
      "\n",
      "\n",
      "\n"
     ]
    }
   ],
   "source": [
    "from selenium import webdriver\n",
    "from selenium.webdriver.chrome.options import Options\n",
    "chrome_options = Options()\n",
    "#chrome_options.add_argument(\"--disable-extensions\")\n",
    "#chrome_options.add_argument(\"--disable-gpu\")\n",
    "#chrome_options.add_argument(\"--headless\")\n",
    "#chrome_options.headless = True # também funciona\n",
    "driver = webdriver.Chrome(options=chrome_options)\n",
    "driver.get(\"https://www.python.org\")\n",
    "for i in driver.find_elements_by_tag_name('code'):\n",
    "    print(i.text)"
   ]
  },
  {
   "cell_type": "markdown",
   "metadata": {},
   "source": [
    "# Consultas Individuais"
   ]
  },
  {
   "cell_type": "code",
   "execution_count": 6,
   "metadata": {},
   "outputs": [],
   "source": [
    "from selenium import webdriver\n",
    "from selenium.webdriver.common.by import By\n",
    "import re"
   ]
  },
  {
   "cell_type": "code",
   "execution_count": 15,
   "metadata": {},
   "outputs": [
    {
     "name": "stdout",
     "output_type": "stream",
     "text": [
      "Digite o CEP de 8 dígitos, sem pontos ou traços.\n",
      "04305000\n",
      "\n",
      " Rua dos Democratas \n",
      "Vila Monte Alegre \n",
      "São Paulo/SP \n",
      "04305-000\n"
     ]
    }
   ],
   "source": [
    "\n",
    "print(\"Digite o CEP de 8 dígitos, sem pontos ou traços.\")\n",
    "try:\n",
    "    cep=input()\n",
    "    if re.match('^\\d{8}$',cep) != None:    \n",
    "        driver = webdriver.Chrome()\n",
    "        driver.get(\"http://www.buscacep.correios.com.br/sistemas/buscacep/BuscaCepEndereco.cfm\")\n",
    "        p_element=driver.find_element_by_tag_name('input')\n",
    "        p_element.click()\n",
    "        p_element.send_keys('{}'.format(cep))\n",
    "        for i in driver.find_elements(By.CSS_SELECTOR,\"input[class='btn2 float-right']\"):\n",
    "            i.click()\n",
    "        if driver.find_element_by_xpath('/html/body/div[1]/div[3]/div[2]/div/div/div[2]/div[2]/div[2]/p').text == 'DADOS NAO ENCONTRADOS':\n",
    "            print(driver.find_element_by_xpath('/html/body/div[1]/div[3]/div[2]/div/div/div[2]/div[2]/div[2]/p').text)    \n",
    "        for tr in driver.find_elements_by_tag_name('tbody'):\n",
    "            tds = tr.find_elements_by_tag_name('td')\n",
    "            td_cols = tr.find_elements_by_tag_name('th')\n",
    "            for num,td in enumerate(tds):\n",
    "                if ((num & 3) == 0):\n",
    "                    print('\\n',td.text)\n",
    "                else:\n",
    "                    print(td.text)\n",
    "    else:\n",
    "        print(\"CEP Inválido\")\n",
    "except ValueError:\n",
    "        print(\"Digite um CEP Válido\")\n",
    "\n",
    "\n"
   ]
  },
  {
   "cell_type": "raw",
   "metadata": {},
   "source": []
  },
  {
   "cell_type": "markdown",
   "metadata": {},
   "source": [
    "## Consultas em Lote"
   ]
  },
  {
   "cell_type": "code",
   "execution_count": 238,
   "metadata": {},
   "outputs": [],
   "source": [
    "import selenium\n",
    "import pandas as pd\n",
    "from selenium import webdriver\n",
    "from selenium.webdriver.common.keys import Keys\n",
    "from selenium.webdriver.common.by import By\n",
    "from selenium.webdriver.support.ui import WebDriverWait\n",
    "from selenium.webdriver.support import expected_conditions as EC"
   ]
  },
  {
   "cell_type": "code",
   "execution_count": 232,
   "metadata": {},
   "outputs": [],
   "source": [
    "nome = []\n",
    "\n",
    "driver = webdriver.Chrome()\n",
    "driver.get('https://www.pichau.com.br/monitores')\n",
    "time.sleep(3)\n",
    "driver.find_element_by_id('onesignal-slidedown-cancel-button').click()\n",
    "time.sleep(2)\n",
    "limiter = driver.find_element_by_id(\"limiter\")\n",
    "limiter.click()\n",
    "limiter.send_keys(Keys.ARROW_DOWN)\n",
    "limiter.send_keys(Keys.ARROW_DOWN)\n",
    "limiter.send_keys(Keys.RETURN)\n",
    "time.sleep(2)\n",
    "for pag in range(0,int(driver.find_element_by_xpath('//*[@id=\"maincontent\"]/div[3]/div[1]/div[5]/div[1]/ul/li[3]/span[2]').text)-1):\n",
    "    time.sleep(2)\n",
    "    nome_prod = driver.find_elements_by_class_name('product.name.product-item-name')\n",
    "    \n",
    "    for i in nome_prod:\n",
    "        nome.append(i.text)\n",
    "        \n",
    "    element = WebDriverWait(driver, 10).until(\n",
    "    EC.element_to_be_clickable((By.XPATH, \"//*[@title='Próximo']\")))\n",
    "    element.send_keys(Keys.RETURN)\n",
    "    time.sleep(3)\n",
    "    \n"
   ]
  },
  {
   "cell_type": "code",
   "execution_count": 239,
   "metadata": {},
   "outputs": [
    {
     "data": {
      "text/html": [
       "<div>\n",
       "<style scoped>\n",
       "    .dataframe tbody tr th:only-of-type {\n",
       "        vertical-align: middle;\n",
       "    }\n",
       "\n",
       "    .dataframe tbody tr th {\n",
       "        vertical-align: top;\n",
       "    }\n",
       "\n",
       "    .dataframe thead th {\n",
       "        text-align: right;\n",
       "    }\n",
       "</style>\n",
       "<table border=\"1\" class=\"dataframe\">\n",
       "  <thead>\n",
       "    <tr style=\"text-align: right;\">\n",
       "      <th></th>\n",
       "      <th>nome_produto</th>\n",
       "    </tr>\n",
       "  </thead>\n",
       "  <tbody>\n",
       "    <tr>\n",
       "      <td>0</td>\n",
       "      <td>MONITOR ACER 19.5\" LED WIDESCREEN HDMI PRETO, ...</td>\n",
       "    </tr>\n",
       "    <tr>\n",
       "      <td>1</td>\n",
       "      <td>MONITOR SAMSUNG 27'' CF390 LED CURVE FHD VGA/H...</td>\n",
       "    </tr>\n",
       "    <tr>\n",
       "      <td>2</td>\n",
       "      <td>MONITOR SAMSUNG 24 POL. LED FULL HD CURVO PRET...</td>\n",
       "    </tr>\n",
       "    <tr>\n",
       "      <td>3</td>\n",
       "      <td>MONITOR SAMSUNG 28 POL. LED ULTRA HD 4K, LU28E...</td>\n",
       "    </tr>\n",
       "    <tr>\n",
       "      <td>4</td>\n",
       "      <td>MONITOR PHILIPS 21.5\" LED FULL HD BRANCO, 223V...</td>\n",
       "    </tr>\n",
       "    <tr>\n",
       "      <td>...</td>\n",
       "      <td>...</td>\n",
       "    </tr>\n",
       "    <tr>\n",
       "      <td>187</td>\n",
       "      <td>MONITOR GAMER GIGABYTE AORUS AD27QD 27\" IPS 1M...</td>\n",
       "    </tr>\n",
       "    <tr>\n",
       "      <td>188</td>\n",
       "      <td>MONITOR GAMER GIGABYTE AORUS FI27Q 27\" LED 1MS...</td>\n",
       "    </tr>\n",
       "    <tr>\n",
       "      <td>189</td>\n",
       "      <td>MONITOR GAMER GIGABYTE AORUS CV27Q 27\" CURVO L...</td>\n",
       "    </tr>\n",
       "    <tr>\n",
       "      <td>190</td>\n",
       "      <td>SUPORTE PARA MONITOR THUNDERX3 AS5 HEX RGB PRE...</td>\n",
       "    </tr>\n",
       "    <tr>\n",
       "      <td>191</td>\n",
       "      <td>MONITOR GAMER LG 23.8\" IPS 1MS 75HZ FHD FREESY...</td>\n",
       "    </tr>\n",
       "  </tbody>\n",
       "</table>\n",
       "<p>192 rows × 1 columns</p>\n",
       "</div>"
      ],
      "text/plain": [
       "                                          nome_produto\n",
       "0    MONITOR ACER 19.5\" LED WIDESCREEN HDMI PRETO, ...\n",
       "1    MONITOR SAMSUNG 27'' CF390 LED CURVE FHD VGA/H...\n",
       "2    MONITOR SAMSUNG 24 POL. LED FULL HD CURVO PRET...\n",
       "3    MONITOR SAMSUNG 28 POL. LED ULTRA HD 4K, LU28E...\n",
       "4    MONITOR PHILIPS 21.5\" LED FULL HD BRANCO, 223V...\n",
       "..                                                 ...\n",
       "187  MONITOR GAMER GIGABYTE AORUS AD27QD 27\" IPS 1M...\n",
       "188  MONITOR GAMER GIGABYTE AORUS FI27Q 27\" LED 1MS...\n",
       "189  MONITOR GAMER GIGABYTE AORUS CV27Q 27\" CURVO L...\n",
       "190  SUPORTE PARA MONITOR THUNDERX3 AS5 HEX RGB PRE...\n",
       "191  MONITOR GAMER LG 23.8\" IPS 1MS 75HZ FHD FREESY...\n",
       "\n",
       "[192 rows x 1 columns]"
      ]
     },
     "execution_count": 239,
     "metadata": {},
     "output_type": "execute_result"
    }
   ],
   "source": [
    "pd.DataFrame(data=nome,columns=['nome_produto'])"
   ]
  },
  {
   "cell_type": "code",
   "execution_count": null,
   "metadata": {},
   "outputs": [],
   "source": []
  },
  {
   "cell_type": "code",
   "execution_count": null,
   "metadata": {},
   "outputs": [],
   "source": []
  },
  {
   "cell_type": "code",
   "execution_count": null,
   "metadata": {},
   "outputs": [],
   "source": []
  },
  {
   "cell_type": "code",
   "execution_count": null,
   "metadata": {},
   "outputs": [],
   "source": []
  },
  {
   "cell_type": "markdown",
   "metadata": {},
   "source": [
    "Documentação Oficial Selenium : https://www.selenium.dev/documentation/en/getting_started/"
   ]
  },
  {
   "cell_type": "markdown",
   "metadata": {},
   "source": [
    "Documentação Selenium -  Python (Não Oficial) :  https://selenium-python.readthedocs.io/index.html"
   ]
  },
  {
   "cell_type": "markdown",
   "metadata": {},
   "source": [
    "Webdriver Chrome : https://chromedriver.chromium.org/downloads"
   ]
  },
  {
   "cell_type": "markdown",
   "metadata": {},
   "source": [
    "Webdriver Mozilla : https://github.com/mozilla/geckodriver/releases"
   ]
  },
  {
   "cell_type": "code",
   "execution_count": null,
   "metadata": {},
   "outputs": [],
   "source": []
  }
 ],
 "metadata": {
  "kernelspec": {
   "display_name": "Python 3",
   "language": "python",
   "name": "python3"
  },
  "language_info": {
   "codemirror_mode": {
    "name": "ipython",
    "version": 3
   },
   "file_extension": ".py",
   "mimetype": "text/x-python",
   "name": "python",
   "nbconvert_exporter": "python",
   "pygments_lexer": "ipython3",
   "version": "3.7.4"
  }
 },
 "nbformat": 4,
 "nbformat_minor": 2
}
